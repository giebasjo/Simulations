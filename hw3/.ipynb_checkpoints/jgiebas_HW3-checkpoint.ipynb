{
 "cells": [
  {
   "cell_type": "markdown",
   "metadata": {},
   "source": [
    "# 46-932, Simulation Methods for Option Pricing: Homework 3\n",
    "\n",
    "*Author*: Jordan Giebas <br>\n",
    "*Due Date*: Feb. 8, 2018"
   ]
  },
  {
   "cell_type": "markdown",
   "metadata": {},
   "source": [
    "## Question 1: fjdskla;fsajf;"
   ]
  },
  {
   "cell_type": "markdown",
   "metadata": {},
   "source": [
    "## Question 2\n",
    "\n",
    "Consider the price process $\\{S_{t}, t \\geq 0\\}$ governed by a geometric brownian motion with drift $\\mu = 0.10$, and volatility $\\sigma = 0.10$ per year. The risk-free rate is $r = 0.05$, and the initial asset price is $S_{0} = 100$. Suppose the interval $[0,T]$ is divided into $N$ equal time steps with strike $K=100$. Assume that $T=1$ and $N=52$. Using the notation that $S_{i\\Delta}$ is the asset price at time $i\\Delta$, the option payoff is given by: $$payoff= \\bigg(\\frac{1}{N}\\sum_{i=1}^{N} S_{i\\Delta} - K\\bigg)^{+}$$"
   ]
  },
  {
   "cell_type": "markdown",
   "metadata": {},
   "source": [
    "### Part (a)\n",
    "\n",
    "Use standard MCS with $n=10,000$ paths, estimate the price of this option and provide a standard error. "
   ]
  },
  {
   "cell_type": "code",
   "execution_count": 3,
   "metadata": {},
   "outputs": [],
   "source": [
    "# import needed libraries\n",
    "import matplotlib.pyplot as plt\n",
    "import numpy as np\n",
    "\n",
    "# Define parameters, global vars\n",
    "mu      = 0.10\n",
    "sig     = 0.10\n",
    "rfr     = 0.05\n",
    "S_0     = K = 100.0\n",
    "N       = 52\n",
    "T       = 1.0\n",
    "nopaths = 10000"
   ]
  },
  {
   "cell_type": "code",
   "execution_count": 4,
   "metadata": {},
   "outputs": [],
   "source": [
    "# Generate price process for a single path\n",
    "def price_process( N, T ):\n",
    "    \n",
    "    dt      = T/float(N)\n",
    "    t_space = np.linspace(0, T, N)                      # Partition the interval\n",
    "    Z       = np.random.standard_normal(size = N)       # Generate appropriate number of standard normals\n",
    "    W       = np.cumsum(Z)*np.sqrt(dt)*sig              # Take cumulative sum and multiply by sqrt(dt)*\\sig\n",
    "    S_t     = S_0*np.exp((mu-0.5*sig**2)*t_space + W)   # Generate price process\n",
    "    \n",
    "    return S_t\n",
    "\n",
    "# Get payoff for a given path\n",
    "def discounted_payoff( S_t, r, T, K ):\n",
    "    \n",
    "    return ( np.exp(-1.0*r*T)*(np.maximum((np.mean(S_t) - K),0)) )"
   ]
  },
  {
   "cell_type": "code",
   "execution_count": 5,
   "metadata": {},
   "outputs": [],
   "source": [
    "# Get the discounted payoff of each price process for each path\n",
    "all_paths = [discounted_payoff(price_process(N,T), rfr, T, K) for i in range(nopaths)]"
   ]
  },
  {
   "cell_type": "code",
   "execution_count": 6,
   "metadata": {},
   "outputs": [
    {
     "name": "stdout",
     "output_type": "stream",
     "text": [
      "Mean:  5.54305132398\n",
      "Var :  25.3190876597\n"
     ]
    }
   ],
   "source": [
    "print(\"Mean: \", np.mean(all_paths))\n",
    "print(\"Var : \", np.var(all_paths))"
   ]
  },
  {
   "cell_type": "markdown",
   "metadata": {},
   "source": [
    "### Part (b)\n",
    "Generate antithetic processes and take the discounted payoff. Report the estimate for the option price and the standard error. Remark on any variance reduction. "
   ]
  },
  {
   "cell_type": "code",
   "execution_count": 7,
   "metadata": {},
   "outputs": [],
   "source": [
    "# Generate (antithetic) price process for a single path\n",
    "def ant_price_process( N, T ):\n",
    "    \n",
    "    dt      = T/float(N)\n",
    "    t_space = np.linspace(0, T, N)                      # Partition the interval\n",
    "    Z       = -1.0*np.random.standard_normal(size = N)  # Generate appropriate number of (antithetic) standard normals\n",
    "    W       = np.cumsum(Z)*np.sqrt(dt)*sig              # Take cumulative sum and multiply by sqrt(dt)*\\sig\n",
    "    S_t     = S_0*np.exp((mu-0.5*sig**2)*t_space + W)   # Generate price process\n",
    "    \n",
    "    return S_t"
   ]
  },
  {
   "cell_type": "code",
   "execution_count": 8,
   "metadata": {},
   "outputs": [],
   "source": [
    "# Get the discounted payoff of each (antithetic) price process for each path\n",
    "ant_all_paths = [discounted_payoff(ant_price_process(N,T), rfr, T, K) for i in range(nopaths)]"
   ]
  },
  {
   "cell_type": "code",
   "execution_count": 9,
   "metadata": {},
   "outputs": [],
   "source": [
    "# Get the average of the antithetic and normal discounted payoffs\n",
    "avg_payoff = [0.5*(x+y) for x, y in zip(all_paths, ant_all_paths)]"
   ]
  },
  {
   "cell_type": "code",
   "execution_count": 10,
   "metadata": {},
   "outputs": [
    {
     "name": "stdout",
     "output_type": "stream",
     "text": [
      "Mean:  5.55440275046\n",
      "Var :  12.8233228259\n"
     ]
    }
   ],
   "source": [
    "# Report the mean and the std error here\n",
    "print(\"Mean: \", np.mean(avg_payoff))\n",
    "print(\"Var : \", np.var(avg_payoff))"
   ]
  },
  {
   "cell_type": "code",
   "execution_count": 11,
   "metadata": {},
   "outputs": [
    {
     "name": "stdout",
     "output_type": "stream",
     "text": [
      "nopaths:  10\n",
      "nopaths:  100\n",
      "nopaths:  1000\n",
      "nopaths:  10000\n",
      "nopaths:  100000\n",
      "nopaths:  1000000\n"
     ]
    }
   ],
   "source": [
    "####### i'm just interested in the variance reduction as a funciton of N\n",
    "not_ant_var_list = list()\n",
    "ant_var_list = list()\n",
    "paths_list = [10,100,1000,10000,100000,1000000]\n",
    "for nopaths in paths_list:\n",
    "    print(\"nopaths: \", nopaths)\n",
    "    \n",
    "    # Generate normal/antithetic discounted payoffs\n",
    "    not_ant = [discounted_payoff(price_process(N,T), rfr, T, K) for i in range(nopaths)]\n",
    "    ant     = [discounted_payoff(ant_price_process(N,T), rfr, T, K) for i in range(nopaths)]\n",
    "    \n",
    "    # Generate the average\n",
    "    avg_pay = [0.5*(x+y) for x, y in zip(not_ant, ant)]\n",
    "    \n",
    "    # Append the variances to the lists\n",
    "    not_ant_var_list.append(np.var(not_ant))\n",
    "    ant_var_list.append(np.var(avg_pay))"
   ]
  },
  {
   "cell_type": "code",
   "execution_count": 12,
   "metadata": {},
   "outputs": [
    {
     "data": {
      "text/plain": [
       "[<matplotlib.lines.Line2D at 0x10c1e77f0>]"
      ]
     },
     "execution_count": 12,
     "metadata": {},
     "output_type": "execute_result"
    },
    {
     "data": {
      "image/png": "[encoded data removed]",
      "text/plain": [
       "<matplotlib.figure.Figure at 0x10a4bff98>"
      ]
     },
     "metadata": {},
     "output_type": "display_data"
    }
   ],
   "source": [
    "%matplotlib inline\n",
    "plt.title(\"Standard(b)/Antithetic(r) Var vs. Sample Size (N)\")\n",
    "plt.xlabel(\"log(N)\")\n",
    "plt.ylabel(\"var\")\n",
    "plt.plot(np.log(paths_list),not_ant_var_list,'b-')\n",
    "plt.plot(np.log(paths_list),ant_var_list,'r-')"
   ]
  },
  {
   "cell_type": "code",
   "execution_count": 15,
   "metadata": {},
   "outputs": [
    {
     "data": {
      "text/plain": [
       "[<matplotlib.lines.Line2D at 0x1131b1550>]"
      ]
     },
     "execution_count": 15,
     "metadata": {},
     "output_type": "execute_result"
    },
    {
     "data": {
      "image/png": "[encoded data removed]",
      "text/plain": [
       "<matplotlib.figure.Figure at 0x1131b1c50>"
      ]
     },
     "metadata": {},
     "output_type": "display_data"
    }
   ],
   "source": [
    "proportion_list = [x/float(y) for x,y in zip(ant_var_list, not_ant_var_list)]\n",
    "plt.title(\"Fraction of variance reduction vs. Sample Size\")\n",
    "plt.xlabel(\"log(N)\")\n",
    "plt.ylabel(\"Fraction variance reduction\")\n",
    "plt.plot(np.log(paths_list), proportion_list,'b-')"
   ]
  },
  {
   "cell_type": "code",
   "execution_count": null,
   "metadata": {},
   "outputs": [],
   "source": []
  }
 ],
 "metadata": {
  "kernelspec": {
   "display_name": "Python 3",
   "language": "python",
   "name": "python3"
  },
  "language_info": {
   "codemirror_mode": {
    "name": "ipython",
    "version": 3
   },
   "file_extension": ".py",
   "mimetype": "text/x-python",
   "name": "python",
   "nbconvert_exporter": "python",
   "pygments_lexer": "ipython3",
   "version": "3.6.3"
  }
 },
 "nbformat": 4,
 "nbformat_minor": 2
}
