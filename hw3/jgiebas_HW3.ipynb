{
 "cells": [
  {
   "cell_type": "markdown",
   "metadata": {},
   "source": [
    "# 46-932, Simulation Methods for Option Pricing: Homework 3\n",
    "\n",
    "*Author*: Jordan Giebas <br>\n",
    "*Due Date*: Feb. 8, 2018"
   ]
  },
  {
   "cell_type": "markdown",
   "metadata": {},
   "source": [
    "## Question 1: \n",
    "Practice on antithetic variables with Black-Scholes. The paramters are given as follows:<br>\n",
    "<ul>\n",
    "    <li> $S_{0} = 100$\n",
    "    <li> $T = 1$\n",
    "    <li> $r = 0.05$\n",
    "    <li> $\\sigma = 0.10$\n",
    "    <li> $c_{0}^{BS} = 6.805$\n",
    "</ul>\n",
    "\n",
    "### Part (a)\n",
    "Price the option using standard MCS for a sample size of $n=10,000$ and strike-levels $K=95, 100, 105$."
   ]
  },
  {
   "cell_type": "code",
   "execution_count": 293,
   "metadata": {},
   "outputs": [
    {
     "name": "stdout",
     "output_type": "stream",
     "text": [
      "At strike 95: Estimated Price 10.442265, StdError 9.005453\n",
      "At strike 100: Estimated Price 6.854460, StdError 7.760601\n",
      "At strike 105: Estimated Price 4.177502, StdError 6.338703\n"
     ]
    },
    {
     "data": {
      "text/plain": [
       "[<matplotlib.lines.Line2D at 0x1120a48d0>]"
      ]
     },
     "execution_count": 293,
     "metadata": {},
     "output_type": "execute_result"
    },
    {
     "data": {
      "image/png": "[encoded data removed]",
      "text/plain": [
       "<matplotlib.figure.Figure at 0x112bcb978>"
      ]
     },
     "metadata": {},
     "output_type": "display_data"
    }
   ],
   "source": [
    "import numpy as np\n",
    "import matplotlib.pyplot as plt\n",
    "%matplotlib inline\n",
    "\n",
    "def S_T(S_0,rfr,vol,dT):\n",
    "\n",
    "    return ( S_0*np.exp((rfr-0.5*(vol**2))*dT + vol*np.sqrt(dT)*np.random.standard_normal()) )\n",
    "\n",
    "def discounted_payoff(S_T, K, rfr, T):\n",
    "    \n",
    "    return ( np.exp(-1.0*rfr*T)*np.maximum(S_T-K,0) )\n",
    "\n",
    "  \n",
    "\"\"\"\n",
    "Parameters, Global Vars\n",
    "\"\"\"\n",
    "S_0 = 100\n",
    "K_list = [95,100,105]\n",
    "rfr = 0.05\n",
    "vol = 0.10\n",
    "dT = 1\n",
    "\n",
    "# Store each discounted payoff for all scenarios, for each K\n",
    "c_i_95  = [discounted_payoff(S_T(S_0,rfr,vol,dT),K_list[0], rfr, dT) for i in range(10000)]\n",
    "c_i_100 = [discounted_payoff(S_T(S_0,rfr,vol,dT),K_list[1], rfr, dT) for i in range(10000)]\n",
    "c_i_105 = [discounted_payoff(S_T(S_0,rfr,vol,dT),K_list[2], rfr, dT) for i in range(10000)]\n",
    "\n",
    "# Report results\n",
    "print( \"At strike %i: Estimated Price %f, StdError %f\" % (K_list[0], np.mean(c_i_95), np.std(c_i_95)) )\n",
    "print( \"At strike %i: Estimated Price %f, StdError %f\" % (K_list[1],np.mean(c_i_100), np.std(c_i_100)) )\n",
    "print( \"At strike %i: Estimated Price %f, StdError %f\" % (K_list[2],np.mean(c_i_105), np.std(c_i_105)) )\n",
    "\n",
    "# Plots the estimated price as a function of strike\n",
    "plt.xlabel(\"Strike (K)\")\n",
    "plt.ylabel(\"Estimated Call Price\")\n",
    "plt.title(\"Estimated Call PRice vs. Strike\")\n",
    "plt.plot(K_list, [np.mean(c_i_95),np.mean(c_i_100),np.mean(c_i_105)])"
   ]
  },
  {
   "cell_type": "markdown",
   "metadata": {},
   "source": [
    "The above graph is sensible in that as the strike increases, the probability of the European option ending in the money becomes less likely. Hence, the current price of the option should be inversely proportional to the strike - as seen above. "
   ]
  },
  {
   "cell_type": "markdown",
   "metadata": {},
   "source": [
    "### Part (b)\n",
    "Repeat the above using the antithetic procedure. "
   ]
  },
  {
   "cell_type": "code",
   "execution_count": 254,
   "metadata": {},
   "outputs": [
    {
     "name": "stdout",
     "output_type": "stream",
     "text": [
      "\n",
      "MC Estimates and Standard Errors\n",
      "\n",
      "At strike 95: Estimated Price 10.408706, StdError 6.279401\n",
      "At strike 100: Estimated Price 6.935312, StdError 5.517318\n",
      "At strike 105: Estimated Price 4.064135, StdError 4.443980\n",
      "\n",
      "Variance Reduction Factors\n",
      "\n",
      "At strike 95: the variance was reduced by a factor of 0.709768\n",
      "At strike 100: the variance was reduced by a factor of 0.705687\n",
      "At strike 105: the variance was reduced by a factor of 0.696684\n"
     ]
    }
   ],
   "source": [
    "def ant_S_T(S_0,rfr,vol,dT):\n",
    "\n",
    "    return ( S_0*np.exp((rfr-0.5*(vol**2))*dT + -1.0*vol*np.sqrt(dT)*np.random.standard_normal()) )\n",
    "\n",
    "\n",
    "# Store each (non-antithetic) discounted payoff for all scenarios, for each K\n",
    "c_i_95  = [discounted_payoff(S_T(S_0,rfr,vol,dT),K_list[0], rfr, dT) for i in range(10000)]\n",
    "c_i_100 = [discounted_payoff(S_T(S_0,rfr,vol,dT),K_list[1], rfr, dT) for i in range(10000)]\n",
    "c_i_105 = [discounted_payoff(S_T(S_0,rfr,vol,dT),K_list[2], rfr, dT) for i in range(10000)]\n",
    "\n",
    "# Store each (non-antithetic) discounted payoff for all scenarios, for each K\n",
    "c_i_95_ant  = [discounted_payoff(ant_S_T(S_0,rfr,vol,dT),K_list[0], rfr, dT) for i in range(10000)]\n",
    "c_i_100_ant = [discounted_payoff(ant_S_T(S_0,rfr,vol,dT),K_list[1], rfr, dT) for i in range(10000)]\n",
    "c_i_105_ant = [discounted_payoff(ant_S_T(S_0,rfr,vol,dT),K_list[2], rfr, dT) for i in range(10000)]\n",
    "\n",
    "# Obtain averages\n",
    "c_95_avg  = [0.5*(x+y) for x, y in zip(c_i_95_ant, c_i_95)]\n",
    "c_100_avg = [0.5*(x+y) for x, y in zip(c_i_100_ant, c_i_100)]\n",
    "c_105_avg = [0.5*(x+y) for x, y in zip(c_i_105_ant, c_i_105)]\n",
    "\n",
    "\n",
    "# Report results\n",
    "print(\"\\nMC Estimates and Standard Errors\\n\")\n",
    "print( \"At strike %i: Estimated Price %f, StdError %f\" % (K_list[0], np.mean(c_95_avg), np.std(c_95_avg)) )\n",
    "print( \"At strike %i: Estimated Price %f, StdError %f\" % (K_list[1],np.mean(c_100_avg), np.std(c_100_avg)) )\n",
    "print( \"At strike %i: Estimated Price %f, StdError %f\" % (K_list[2],np.mean(c_105_avg), np.std(c_105_avg)) )\n",
    "\n",
    "# Report variance reduction factors\n",
    "print(\"\\nVariance Reduction Factors\\n\")\n",
    "print( \"At strike %i: the variance was reduced by a factor of %f\" % (K_list[0], np.std(c_95_avg)/np.std(c_i_95)) )\n",
    "print( \"At strike %i: the variance was reduced by a factor of %f\" % (K_list[1], np.std(c_100_avg)/np.std(c_i_100)) )\n",
    "print( \"At strike %i: the variance was reduced by a factor of %f\" % (K_list[2], np.std(c_105_avg)/np.std(c_i_105)) )"
   ]
  },
  {
   "cell_type": "markdown",
   "metadata": {},
   "source": [
    "The above results suggest that, regardless of the strike, we see approximately a 70% reduction in variance! Pretty good!"
   ]
  },
  {
   "cell_type": "markdown",
   "metadata": {},
   "source": [
    "## Question 2\n",
    "\n",
    "Consider the price process $\\{S_{t}, t \\geq 0\\}$ governed by a geometric brownian motion with drift $\\mu = 0.10$, and volatility $\\sigma = 0.10$ per year. The risk-free rate is $r = 0.05$, and the initial asset price is $S_{0} = 100$. Suppose the interval $[0,T]$ is divided into $N$ equal time steps with strike $K=100$. Assume that $T=1$ and $N=52$. Using the notation that $S_{i\\Delta}$ is the asset price at time $i\\Delta$, the option payoff is given by: $$payoff= \\bigg(\\frac{1}{N}\\sum_{i=1}^{N} S_{i\\Delta} - K\\bigg)^{+}$$"
   ]
  },
  {
   "cell_type": "markdown",
   "metadata": {},
   "source": [
    "### Part (a)\n",
    "\n",
    "Use standard MCS with $n=10,000$ paths, estimate the price of this option and provide a standard error. "
   ]
  },
  {
   "cell_type": "code",
   "execution_count": 255,
   "metadata": {},
   "outputs": [],
   "source": [
    "# import needed libraries\n",
    "import matplotlib.pyplot as plt\n",
    "import numpy as np\n",
    "import scipy.stats \n",
    "from scipy.stats import norm, gmean\n",
    "from math import log, sqrt, exp\n",
    "\n",
    "# Define parameters, global vars\n",
    "mu      = 0.10\n",
    "sig     = 0.10\n",
    "rfr     = 0.05\n",
    "S_0     = K = 100.0\n",
    "N       = 52\n",
    "T       = 1.0\n",
    "nopaths = 1000"
   ]
  },
  {
   "cell_type": "code",
   "execution_count": 256,
   "metadata": {},
   "outputs": [],
   "source": [
    "# Generate price process for a single path\n",
    "def price_process( N, T, r, sig, S_0 ):\n",
    "    \n",
    "    dt      = T/float(N)\n",
    "    t_space = np.linspace(0, T, N)                      # Partition the interval\n",
    "    Z       = np.random.standard_normal(size = N)       # Generate appropriate number of standard normals\n",
    "    W       = np.cumsum(Z)*np.sqrt(dt)*sig              # Take cumulative sum and multiply by sqrt(dt)*\\sig\n",
    "    S_t     = S_0*np.exp((r-0.5*sig**2)*t_space + W)    # Generate price process\n",
    "    \n",
    "    return S_t\n",
    "\n",
    "# For a given path, return discounted arithmetic asian payoff\n",
    "def discounted_arithmetic_asian( S_t, r, T, K ):\n",
    "    \n",
    "    return ( np.exp(-1.0*r*T)*(np.maximum((np.mean(S_t) - K),0)) )\n",
    "\n",
    "# For a given path, return discounted geometric asian payoff\n",
    "def discounted_geometric_asian(S_t, rfr, T, K):\n",
    "    \n",
    "    return ( np.exp(-1.0*rfr*T)*(np.maximum((gmean(S_t) - K),0)) )\n",
    "    "
   ]
  },
  {
   "cell_type": "code",
   "execution_count": 257,
   "metadata": {},
   "outputs": [],
   "source": [
    "# Get the discounted payoff of each price process for each path\n",
    "all_paths = [discounted_arithmetic_asian(price_process(N,T,rfr,sig,S_0), rfr, T, K) for i in range(nopaths)]"
   ]
  },
  {
   "cell_type": "code",
   "execution_count": 258,
   "metadata": {},
   "outputs": [
    {
     "name": "stdout",
     "output_type": "stream",
     "text": [
      "Mean:  3.82956792539\n",
      "Std Error :  0.134711451028\n"
     ]
    }
   ],
   "source": [
    "print(\"Mean: \", np.mean(all_paths))\n",
    "print(\"Std Error : \", np.std(all_paths)/np.sqrt(nopaths))"
   ]
  },
  {
   "cell_type": "markdown",
   "metadata": {},
   "source": [
    "### Part (b)\n",
    "Generate antithetic processes and take the discounted payoff. Report the estimate for the option price and the standard error. Remark on any variance reduction. "
   ]
  },
  {
   "cell_type": "code",
   "execution_count": 259,
   "metadata": {},
   "outputs": [],
   "source": [
    "# Generate (antithetic) price process for a single path\n",
    "def ant_price_process( N, T, r, sig, S_0 ):\n",
    "    \n",
    "    dt      = T/float(N)\n",
    "    t_space = np.linspace(0, T, N)                      # Partition the interval\n",
    "    Z       = -1.0*np.random.standard_normal(size = N)       # Generate appropriate number of standard normals\n",
    "    W       = np.cumsum(Z)*np.sqrt(dt)*sig              # Take cumulative sum and multiply by sqrt(dt)*\\sig\n",
    "    S_t     = S_0*np.exp((r-0.5*sig**2)*t_space + W)    # Generate price process\n",
    "    \n",
    "    return S_t"
   ]
  },
  {
   "cell_type": "code",
   "execution_count": 261,
   "metadata": {},
   "outputs": [],
   "source": [
    "# Get the discounted payoff of each (antithetic) price process for each path\n",
    "ant_all_paths = [discounted_arithmetic_asian(ant_price_process(N,T,rfr,sig,S_0), rfr, T, K) for i in range(nopaths)]"
   ]
  },
  {
   "cell_type": "code",
   "execution_count": 262,
   "metadata": {},
   "outputs": [],
   "source": [
    "# Get the average of the antithetic and normal discounted payoffs\n",
    "avg_payoff = [0.5*(x+y) for x, y in zip(all_paths, ant_all_paths)]"
   ]
  },
  {
   "cell_type": "code",
   "execution_count": 263,
   "metadata": {},
   "outputs": [
    {
     "name": "stdout",
     "output_type": "stream",
     "text": [
      "Mean:  3.82202625867\n",
      "Std. Error:  0.0944279983656\n"
     ]
    }
   ],
   "source": [
    "# Report the mean and the std error here\n",
    "print(\"Mean: \", np.mean(avg_payoff))\n",
    "print(\"Std. Error: \", np.std(avg_payoff)/np.sqrt(nopaths))"
   ]
  },
  {
   "cell_type": "markdown",
   "metadata": {},
   "source": [
    "### Part (c)\n",
    "Estimate the option price using $\\bar{S}_{N}$ as a control variable."
   ]
  },
  {
   "cell_type": "code",
   "execution_count": 266,
   "metadata": {},
   "outputs": [
    {
     "name": "stdout",
     "output_type": "stream",
     "text": [
      "Control Variable Mean:  3.55538993131\n",
      "Control Variable Std. Error:  0.0757480687947\n"
     ]
    }
   ],
   "source": [
    "# Define a list of all the price processes (list of lists)\n",
    "pp_ = [price_process(N,T,rfr,sig,S_0) for n in range(1000)]\n",
    "Y_  = [discounted_arithmetic_asian(S_t, rfr, T, K) for S_t in pp_]      \n",
    "X_  = [S_t[-1] for S_t in pp_]\n",
    "\n",
    "# Get quantities needed for adjustment\n",
    "Y_bar = np.mean(Y_)\n",
    "X_bar = np.mean(X_)\n",
    "a_hat = -1.0*np.corrcoef(X_,Y_)[0][1]*(np.std(Y_)/np.std(X_))\n",
    "\n",
    "Y_adj = [y + a_hat*(x - S_0*np.exp(rfr*T)) for x,y in zip(X_,Y_)]\n",
    "\n",
    "print( \"Control Variable Mean: \", np.mean(Y_adj) )\n",
    "print( \"Control Variable Std. Error: \", np.std(Y_adj)/np.sqrt(1000))"
   ]
  },
  {
   "cell_type": "markdown",
   "metadata": {},
   "source": [
    "By the above, we can see that we have a tremendous reduction in variance but our option price is far off from that given by standard MC and the simulation ran using antithetics. <br>\n",
    "I claim that using the terminal value in a price process to adjust our estimates of the asian call is not wise, as the two problems are quite far apart. <br>\n",
    "If using the geometric asian option as a control variable when simulating the price of the arithmetic asian option yields a value similar to the standard MC/antithetic cases above with a reduction in variance, this will confirm my claim above. "
   ]
  },
  {
   "cell_type": "markdown",
   "metadata": {},
   "source": [
    "### Part (d) \n",
    "Use the (asymptotic) geometric asian option as a control variable. \n",
    "$\\sigma^{*} = \\frac{\\sigma}{3}$ and $d^{*} = \\frac{r+d}{2} + \\frac{\\sigma^2}{12}$. <br>\n",
    "**Note:** Dividends are zero, hence $d^{*} = \\frac{r}{2} + \\frac{\\sigma^2}{12}$"
   ]
  },
  {
   "cell_type": "code",
   "execution_count": 267,
   "metadata": {},
   "outputs": [],
   "source": [
    "# Define necessary functions for BS (with dividends) price\n",
    "def d_plus( x, K, tau, sigma, rfr, q ):\n",
    "    \n",
    "    return ( (log(x/K) + ((rfr - q + 0.5*(sigma**2))*tau))/(sigma*sqrt(tau)) )\n",
    "\n",
    "def d_minus( x, K, tau, sigma, rfr, q ):\n",
    "    \n",
    "    return ( d_plus(x, K, tau, sigma, rfr, q) - sigma*sqrt(tau) )\n",
    "\n",
    "def BS_price( x, K, r, sigma, tau, q ):\n",
    "    \n",
    "    d_1 = d_plus(x, K, tau, sigma, rfr, q)\n",
    "    d_2 = d_minus(x, K, tau, sigma, rfr, q)\n",
    "    \n",
    "    return ( x*exp(-1.0*q*tau)*norm.cdf(d_1) - K*exp(-1.0*rfr*tau)*norm.cdf(d_2) )"
   ]
  },
  {
   "cell_type": "code",
   "execution_count": 269,
   "metadata": {},
   "outputs": [
    {
     "name": "stdout",
     "output_type": "stream",
     "text": [
      "Control Variable Mean:  3.64185056669\n",
      "Control Variable Std. Error :  0.00183599006449\n"
     ]
    }
   ],
   "source": [
    "## Control var = geometric asian\n",
    "\n",
    "# Define a list of all the price processes (list of lists)\n",
    "pp_ = [price_process(N,T,rfr,sig,S_0) for n in range(1000)]\n",
    "Y_  = [discounted_arithmetic_asian(S_t, rfr, T, K) for S_t in pp_]    \n",
    "X_  = [discounted_geometric_asian(S_t, rfr, T, K) for S_t in pp_]\n",
    "\n",
    "# Get quantities needed for adjustment\n",
    "Y_bar = np.mean(Y_)\n",
    "X_bar = np.mean(X_)\n",
    "a_hat = -1.0*np.corrcoef(X_,Y_)[0][1]*(np.std(Y_)/np.std(X_))\n",
    "\n",
    "# Define closed form solution to find residual, adjust estimate\n",
    "q_star   = rfr/2.0 + sig**2/12.0\n",
    "sig_star = sig/sqrt(3.0)\n",
    "cform    = BS_price(S_0, K, rfr, sig_star, T, q_star)\n",
    "\n",
    "Y_adj = [y + a_hat*(x - cform) for x,y in zip(X_,Y_)]\n",
    "print( \"Control Variable Mean: \", np.mean(Y_adj) )\n",
    "print( \"Control Variable Std. Error : \", np.std(Y_adj)/np.sqrt(1000)  )"
   ]
  },
  {
   "cell_type": "markdown",
   "metadata": {},
   "source": [
    "Crazy variance reduction."
   ]
  },
  {
   "cell_type": "markdown",
   "metadata": {},
   "source": [
    "### Part (e) \n",
    "Use the exact price of the geometric Asian option instead of the asymptotic version given above. "
   ]
  },
  {
   "cell_type": "code",
   "execution_count": 273,
   "metadata": {},
   "outputs": [
    {
     "name": "stdout",
     "output_type": "stream",
     "text": [
      "Control Variable Mean:  3.70362936289\n",
      "Control Variable Std. Error:  0.00209778552845\n"
     ]
    }
   ],
   "source": [
    "## Control var = geometric asian\n",
    "\n",
    "# Define a list of all the price processes (list of lists)\n",
    "pp_ = [price_process(N,T,rfr,sig,S_0) for n in range(1000)]\n",
    "Y_  = [discounted_arithmetic_asian(S_t, rfr, T, K) for S_t in pp_]    \n",
    "X_  = [discounted_geometric_asian(S_t, rfr, T, K) for S_t in pp_]\n",
    "\n",
    "# Get quantities needed for adjustment\n",
    "Y_bar = np.mean(Y_)\n",
    "X_bar = np.mean(X_)\n",
    "a_hat = -1.0*np.corrcoef(X_,Y_)[0][1]*(np.std(Y_)/np.std(X_))\n",
    "\n",
    "# Define closed form solution to find residual, adjust estimate\n",
    "q_star   = rfr*((N-1)/(2*N)) + (sig**2)*((N**2 - 1)/(12*(N**2)))\n",
    "sig_star = sig*sqrt(((N+1)*((2*N)+1)/(6*(N**2))))\n",
    "cform    = BS_price(S_0, K, rfr, sig_star, T, q_star)\n",
    "\n",
    "Y_adj = [y + a_hat*(x - cform) for x,y in zip(X_,Y_)]\n",
    "print( \"Control Variable Mean: \", np.mean(Y_adj) )\n",
    "print( \"Control Variable Std. Error: \", np.std(Y_adj)/np.sqrt(1000)  )"
   ]
  },
  {
   "cell_type": "markdown",
   "metadata": {},
   "source": [
    "The variance is heavily reduced and the mean is stabilizing to the others found in simulations above. "
   ]
  },
  {
   "cell_type": "markdown",
   "metadata": {},
   "source": [
    "## Question 3"
   ]
  },
  {
   "cell_type": "markdown",
   "metadata": {},
   "source": [
    "We're interested in the benefits of importance sampling as the strike, $K$, and the option becomes out of the money. We're pricing a European call option with the following parameters:\n",
    "\n",
    "<ul>\n",
    "    <li> $S_{0} = 100$\n",
    "    <li> $T = 1$\n",
    "    <li> $\\mu = 0.10$\n",
    "    <li> $r = 0.05$\n",
    "    <li> $\\sigma = 0.20$\n"
   ]
  },
  {
   "cell_type": "markdown",
   "metadata": {},
   "source": [
    "### Part (a)\n",
    "Standard MC with $n=10000$ paths for $K=120,140,160$"
   ]
  },
  {
   "cell_type": "code",
   "execution_count": 277,
   "metadata": {},
   "outputs": [
    {
     "name": "stdout",
     "output_type": "stream",
     "text": [
      "At strike 120: Estimated Price 3.273199, StdError 0.027715\n",
      "At strike 140: Estimated Price 0.777710, StdError 0.013387\n",
      "At strike 160: Estimated Price 0.155682, StdError 0.005790\n",
      "At strike 120: BS Price 3.247477\n",
      "At strike 140: BS Price 0.784965\n",
      "At strike 160: BS Price 0.158954\n"
     ]
    }
   ],
   "source": [
    "# Define global vars. \n",
    "S_0 = 100\n",
    "K_list = [120,140,160]\n",
    "nopaths = 100000\n",
    "rfr = 0.05\n",
    "vol = 0.20\n",
    "mu = 0.10\n",
    "dT = 1\n",
    "\n",
    "# Store each discounted CALL payoff for all scenarios, for each K\n",
    "c_i_120  = [discounted_payoff(S_T(S_0,rfr,vol,dT),K_list[0], rfr, dT) for i in range(nopaths)]\n",
    "c_i_140 = [discounted_payoff(S_T(S_0,rfr,vol,dT),K_list[1], rfr, dT) for i in range(nopaths)]\n",
    "c_i_160 = [discounted_payoff(S_T(S_0,rfr,vol,dT),K_list[2], rfr, dT) for i in range(nopaths)]\n",
    "\n",
    "# Report results\n",
    "print( \"At strike %i: Estimated Price %f, StdError %f\" % (K_list[0],np.mean(c_i_120),  np.std(c_i_120)/np.sqrt(nopaths)) )\n",
    "print( \"At strike %i: Estimated Price %f, StdError %f\" % (K_list[1],np.mean(c_i_140), np.std(c_i_140)/np.sqrt(nopaths)) )\n",
    "print( \"At strike %i: Estimated Price %f, StdError %f\" % (K_list[2],np.mean(c_i_160), np.std(c_i_160)/np.sqrt(nopaths)) )\n",
    "\n",
    "# Print BS price\n",
    "print( \"At strike %i: BS Price %f\" % (K_list[0], BS_price(S_0, K_list[0], rfr, vol, dT, 0)) )\n",
    "print( \"At strike %i: BS Price %f\" % (K_list[1], BS_price(S_0, K_list[1], rfr, vol, dT, 0)) )\n",
    "print( \"At strike %i: BS Price %f\" % (K_list[2], BS_price(S_0, K_list[2], rfr, vol, dT, 0)) )"
   ]
  },
  {
   "cell_type": "markdown",
   "metadata": {},
   "source": [
    "Notice above how much we're overshooting the price of the call when the strike is large. "
   ]
  },
  {
   "cell_type": "markdown",
   "metadata": {},
   "source": [
    "### Part (b)\n",
    "Using put-call parity to eliminate the plethora of zeros we must be getting for each of the various scenarios. "
   ]
  },
  {
   "cell_type": "code",
   "execution_count": 276,
   "metadata": {},
   "outputs": [
    {
     "name": "stdout",
     "output_type": "stream",
     "text": [
      "At strike 120: Estimated Price 3.206514, StdError 0.046832\n",
      "At strike 140: Estimated Price 0.770495, StdError 0.058150\n",
      "At strike 160: Estimated Price 0.170026, StdError 0.062492\n",
      "At strike 120: BS Price 3.247477\n",
      "At strike 140: BS Price 0.784965\n",
      "At strike 160: BS Price 0.158954\n"
     ]
    }
   ],
   "source": [
    "# Define new payoff function for european put\n",
    "def discounted_put_payoff(S_T, K, rfr, T):\n",
    "    \n",
    "    return ( np.exp(-1.0*rfr*T)*np.maximum(K-S_T,0) )\n",
    "\n",
    "def apply_pcp( P, K ):\n",
    "    \n",
    "    return ( P + S_0 - K*np.exp(-1.0*rfr*dT) )\n",
    "\n",
    "# Store each discounted PUT payoff for all scenarios, for each K\n",
    "c_i_120  = [apply_pcp(discounted_put_payoff(S_T(S_0,rfr,vol,dT),K_list[0], rfr, dT), K_list[0]) for i in range(nopaths)]\n",
    "c_i_140 = [apply_pcp(discounted_put_payoff(S_T(S_0,rfr,vol,dT),K_list[1], rfr, dT), K_list[1]) for i in range(nopaths)]\n",
    "c_i_160 = [apply_pcp(discounted_put_payoff(S_T(S_0,rfr,vol,dT),K_list[2], rfr, dT), K_list[2]) for i in range(nopaths)]\n",
    "\n",
    "# Report results\n",
    "print( \"At strike %i: Estimated Price %f, StdError %f\" % (K_list[0],np.mean(c_i_120),  np.std(c_i_120)/np.sqrt(nopaths)) )\n",
    "print( \"At strike %i: Estimated Price %f, StdError %f\" % (K_list[1],np.mean(c_i_140), np.std(c_i_140)/np.sqrt(nopaths)) )\n",
    "print( \"At strike %i: Estimated Price %f, StdError %f\" % (K_list[2],np.mean(c_i_160), np.std(c_i_160)/np.sqrt(nopaths)) )\n",
    "\n",
    "# Print BS price\n",
    "print( \"At strike %i: BS Price %f\" % (K_list[0], BS_price(S_0, K_list[0], rfr, vol, dT, 0)) )\n",
    "print( \"At strike %i: BS Price %f\" % (K_list[1], BS_price(S_0, K_list[1], rfr, vol, dT, 0)) )\n",
    "print( \"At strike %i: BS Price %f\" % (K_list[2], BS_price(S_0, K_list[2], rfr, vol, dT, 0)) )"
   ]
  },
  {
   "cell_type": "markdown",
   "metadata": {},
   "source": [
    "We see an increase in variance. This is sensible, since we have changed to evaluating puts which will yield more diverse values in their payoffs whereas many OTM calls would yield the value zero, reducing the variance."
   ]
  },
  {
   "cell_type": "markdown",
   "metadata": {},
   "source": [
    "### Part (c)\n",
    "Repeat part(b) using the terminal stock price $S_{T}$ as a control variable. "
   ]
  },
  {
   "cell_type": "code",
   "execution_count": 302,
   "metadata": {},
   "outputs": [],
   "source": [
    "# Define global vars. \n",
    "S_0 = 100\n",
    "K_list = [120,140,160]\n",
    "nopaths = 100000\n",
    "rfr = 0.05\n",
    "vol = 0.20\n",
    "mu = 0.10\n",
    "dT = 1\n",
    "\n",
    "for K in K_list:\n",
    "\n",
    "    # Define a list of all the price processes (list of lists)\n",
    "    pp_ = [price_process(N,T,rfr,sig,S_0) for n in range(10000)]\n",
    "    Y_  = [discounted_payoff(S_t[-1], rfr, T, K) for S_t in pp_]      \n",
    "    X_  = [S_t[-1] for S_t in pp_]\n",
    "\n",
    "    \n",
    "    \"\"\"\n",
    "    # Get quantities needed for adjustment\n",
    "    Y_bar = np.mean(Y_)\n",
    "    X_bar = np.mean(X_)\n",
    "    a_hat = -1.0*np.corrcoef(X_,Y_)[0][1]*(np.std(Y_)/np.std(X_))\n",
    "\n",
    "    Y_adj = [y + a_hat*(x - S_0*np.exp(rfr*T)) for x,y in zip(X_,Y_)]\n",
    "\n",
    "    print(\"\\n === K = %i === \" % K)\n",
    "    print( \"Control Variable Mean: \", np.mean(Y_adj) )\n",
    "    print( \"Control Variable Std. Error: \", np.std(Y_adj)/np.sqrt(1000))\n",
    "    \"\"\"\n"
   ]
  },
  {
   "cell_type": "markdown",
   "metadata": {},
   "source": [
    "### Part (d)\n",
    "Repeat this problem so the measure ensures that the option pays off with almost surely. "
   ]
  },
  {
   "cell_type": "code",
   "execution_count": 314,
   "metadata": {},
   "outputs": [
    {
     "name": "stdout",
     "output_type": "stream",
     "text": [
      "\n",
      " === K = 120 ===\n",
      "Estimated Price:  -0.132721736283\n",
      "Std. Error:  0.00105864568904\n",
      "\n",
      " === K = 140 ===\n",
      "Estimated Price:  -3.84222375318e-05\n",
      "Std. Error:  1.51603022602e-07\n",
      "\n",
      " === K = 160 ===\n",
      "Estimated Price:  -4.51376130728e-10\n",
      "Std. Error:  1.18196395673e-12\n"
     ]
    }
   ],
   "source": [
    "from scipy.stats import norm\n",
    "\n",
    "S_0 = 100\n",
    "K_list = [120,140,160]\n",
    "nopaths = 100000\n",
    "rfr = 0.05\n",
    "vol = 0.20\n",
    "mu = 0.10\n",
    "dT = 1\n",
    "for K in K_list:\n",
    "\n",
    "    c_list = []\n",
    "    for i in range(10000):\n",
    "\n",
    "        # Define L as in lecture notes\n",
    "        L = (np.log(K/S_0) - (r-0.5*sig**2)*T)/(sig*np.sqrt(T))\n",
    "        U = np.random.uniform()\n",
    "        X = norm.ppf(U*(1-norm.cdf(L)) + norm.cdf(L))\n",
    "\n",
    "        # Call price process\n",
    "        S_t = price_process(1,1,rfr,sig,S_0)\n",
    "\n",
    "        c_list.append( np.exp(-r*T)*(S_t - K)*(1-norm.cdf(L)) )\n",
    "\n",
    "    print(\"\\n=== K = %i ===\" % K)\n",
    "    print(\"Estimated Price: \", np.mean(c_list))\n",
    "    print(\"Std. Error: \", np.std(c_list)/np.sqrt(10000))\n",
    "    "
   ]
  },
  {
   "cell_type": "markdown",
   "metadata": {},
   "source": [
    "## Question 4\n",
    "\n",
    "Pricing a *down-and-in barrier option* with lower barrier $H$. <br>\n",
    "The option parameters are listed below: <br>\n",
    "<ul>\n",
    "    <li> $T=0.25$\n",
    "    <li> $m=50$\n",
    "    <li> $H \\in \\{94,90,85,90\\}$\n",
    "    <li> $K \\in \\{96,96,96,106\\}$\n",
    "</ul>\n",
    "The price process parameters are as follows: <br>\n",
    "<ul>\n",
    "    <li> $r=0.05$\n",
    "    <li> $\\sigma=0.15$\n",
    "    <li> $S_{0}=95$ \n",
    "</ul>\n",
    "We run $n=100,000$ simulations for each scenario."
   ]
  },
  {
   "cell_type": "markdown",
   "metadata": {},
   "source": [
    "### Part (a)\n",
    "Using standard Monte Carlo, price an option with \n",
    "\n",
    "$$ payoff = \\mathbb{1}\\{S_T > K\\}\\mathbb{1}\\{M < H\\} $$\n",
    "\n",
    "Where,\n",
    "\n",
    "$$ M := min \\{S_t, \\forall t\\} $$"
   ]
  },
  {
   "cell_type": "code",
   "execution_count": 296,
   "metadata": {},
   "outputs": [
    {
     "name": "stdout",
     "output_type": "stream",
     "text": [
      "\n",
      "H:  94\n",
      "K:  96\n",
      "Option price:  3006.87812916\n",
      "Std. Error:  0.00143714803719\n",
      "\n",
      "H:  90\n",
      "K:  96\n",
      "Option price:  434.336716657\n",
      "Std. Error:  0.000640372126944\n",
      "\n",
      "H:  85\n",
      "K:  96\n",
      "Option price:  5.43167790272\n",
      "Std. Error:  7.32205859282e-05\n",
      "\n",
      "H:  90\n",
      "K:  106\n",
      "Option price:  12.7397536264\n",
      "Std. Error:  0.000112094905027\n"
     ]
    }
   ],
   "source": [
    "# Define the option paramters\n",
    "H_list = [94,90,85,90]\n",
    "K_list = [96,96,96,106]\n",
    "T = 0.25\n",
    "m = 50\n",
    "delta = T/m\n",
    "\n",
    "# Define price process parameters\n",
    "r   = 0.05\n",
    "sig = 0.15\n",
    "S_0 = 95\n",
    "\n",
    "## payoff function (for list comprehension)\n",
    "def indicator( S_t, H, K ):\n",
    "    \n",
    "    return (S_t[-1] > K) * (np.min(S_t) < H)\n",
    "\n",
    "for H, K in zip(H_list, K_list):\n",
    "            \n",
    "    L = [ np.exp(-r*T)*indicator(price_process(m,T, r, sig, S_0), H, K) for i in range(100000)]  \n",
    "    \n",
    "    print(\"\\nH: \", H)\n",
    "    print(\"K: \", K)\n",
    "    print(\"Option price: \", 10000*np.mean(L))\n",
    "    print(\"Std. Error: \", np.std(L)/np.sqrt(100000))\n",
    "    "
   ]
  },
  {
   "cell_type": "markdown",
   "metadata": {},
   "source": [
    "These seem relatively close to the Glasserman text."
   ]
  },
  {
   "cell_type": "markdown",
   "metadata": {},
   "source": [
    "### Part (b)\n",
    "\n",
    "#### i\n",
    "\n",
    "Assuming that the price process follows a GBM as above, derive an expression for the price of a digital option **with no knock-in barrier**. I.e., this option will pay $\\mathbb{1}\\{S_T > K\\}$ at time $T$. <br>\n",
    "\n",
    "By the risk-netural pricing formula, we may write the price of the option as the expecected value of the discounted payoff,\n",
    "\n",
    "$$ P(S_0,K,r,\\sigma,T) = \\mathbb{E}^{Q}\\bigg[e^{-rT}\\mathbb{1}_{\\{S_T > K\\}}\\bigg]$$\n",
    "\n",
    "Where $Q$ denotes the expectation with respect to the risk-neutral measure (since tildes are nearly impossible in latex......)\n",
    "\n",
    "The derivation for $P(S_0,K,r,\\sigma,T)$ is done below: <br>\n",
    "\n",
    "$$ \\mathbb{E}^{Q}\\bigg[e^{-rT}\\mathbb{1}_{\\{S_T > K\\}}\\bigg] = e^{-rT}\\mathbb{P}^{Q}\\bigg[S_T > K\\bigg] $$\n",
    "\n",
    "$$ \\mathbb{P}^{Q}\\bigg[S_T > K\\bigg] = 1 - \\mathbb{P}^{Q}\\bigg[S_T \\leq K\\bigg] $$\n",
    "\n",
    "We now perform algebra using the closed-form expression for $S_T$,\n",
    "\n",
    "$$  $$\n",
    "\n",
    "$$ S_T \\leq K \\iff S_0exp\\bigg((r-\\frac{\\sigma^2}{2})T + \\sigma\\sqrt{T}Z\\bigg) \\leq K $$\n",
    "$$ \\iff Z \\leq \\frac{ln\\big(\\frac{K}{S_0}\\big) - (r-\\frac{1}{2}\\sigma^2)T\\big)}{\\sigma\\sqrt{T}} := d $$\n",
    "\n",
    "Since $Z \\sim N(0,1)$, it follows that,\n",
    "\n",
    "$$ \\mathbb{P}^{Q}\\big[S_T > K\\big] = 1 - \\mathbb{P}^{Q}\\big[S_T \\leq K\\big] = 1 - \\Phi(d) = \\Phi(-d) $$\n",
    "\n",
    "Hence, the payoff of our option is given by \n",
    "\n",
    "$$ P(S_0,K,r,\\sigma,T) = e^{-rT}\\Phi(-d) $$\n",
    "\n",
    "#### ii\n",
    "\n",
    "Simulating a path using Conditional Monte Carlo techniques."
   ]
  },
  {
   "cell_type": "code",
   "execution_count": 297,
   "metadata": {},
   "outputs": [
    {
     "name": "stdout",
     "output_type": "stream",
     "text": [
      "\n",
      " === RESULTS ===\n",
      "H:  94\n",
      "K:  96\n",
      "Estimated option price:  0.29879187802\n",
      "Standard Error:  0.000500579682904\n",
      "\n",
      " === RESULTS ===\n",
      "H:  90\n",
      "K:  96\n",
      "Estimated option price:  0.0424953170949\n",
      "Standard Error:  0.000209284684241\n",
      "\n",
      " === RESULTS ===\n",
      "H:  85\n",
      "K:  96\n",
      "Estimated option price:  0.000565402464861\n",
      "Standard Error:  1.00057769098e-05\n",
      "\n",
      " === RESULTS ===\n",
      "H:  90\n",
      "K:  106\n",
      "Estimated option price:  0.00131110099218\n",
      "Standard Error:  9.09146822788e-06\n"
     ]
    }
   ],
   "source": [
    "# Closed-form digital option function\n",
    "def digital_payoff( S_0, K, r, sig, T):\n",
    "    \n",
    "    d = (np.log(K/S_0) - (r-0.5*sig**2)*T)/(sig*np.sqrt(T))\n",
    "\n",
    "    return np.exp(-r*T)*norm.cdf(-d)\n",
    "\n",
    "\n",
    "# Loop for each pair of H, K\n",
    "for H, K in zip(H_list, K_list):\n",
    "\n",
    "    # Loop for each simulation\n",
    "    dpayoff_list = [0 for i in range(100000)]\n",
    "    for i in range(100000):\n",
    "\n",
    "        pp = [S_0]\n",
    "        for k in range(1,m):\n",
    "\n",
    "            S_kp1 = pp[-1]*np.exp( (r-0.5*sig**2)*delta + sig*np.sqrt(delta)*np.random.standard_normal() )\n",
    "            pp.append(S_kp1)\n",
    "\n",
    "            if S_kp1 >= H:\n",
    "                continue  \n",
    "            else:\n",
    "                tau = T-k*delta\n",
    "                dpayoff_list[i] = np.exp(-r*tau)*digital_payoff(pp[-1], K, r, sig, tau)\n",
    "                break    \n",
    "                \n",
    "    print(\"\\n === RESULTS ===\")\n",
    "    print(\"H: \", H)\n",
    "    print(\"K: \", K)\n",
    "    print(\"Estimated option price: \", np.mean(dpayoff_list))\n",
    "    print(\"Standard Error: \", np.std(dpayoff_list)/np.sqrt(100000))"
   ]
  },
  {
   "cell_type": "markdown",
   "metadata": {},
   "source": [
    "#### iii\n",
    "Refer to results instead of 'table'. "
   ]
  },
  {
   "cell_type": "markdown",
   "metadata": {},
   "source": [
    "## Question 5\n",
    "\n",
    "Analyzing a \"down-and-in\" option with \n",
    "\n",
    "$$ payoff = (S_T - K)^{+}\\mathbb{1}_{\\{M<H\\}} $$\n",
    "\n",
    "The parameters are given as follows: <br>\n",
    "\n",
    "<ul>\n",
    "    <li> $S_0 = K = 100$\n",
    "    <li> $H = 95$\n",
    "    <li> $\\sigma = 0.30$\n",
    "    <li> $r=0.10$\n",
    "    <li> $T=0.2$\n",
    "</ul>\n",
    "\n",
    "### Part (a) \n",
    "Use standard MCS to estimate the price of the down-and-in call for $N=25$ and $N=50$"
   ]
  },
  {
   "cell_type": "code",
   "execution_count": 301,
   "metadata": {},
   "outputs": [
    {
     "name": "stdout",
     "output_type": "stream",
     "text": [
      "Case I: N = 25\n",
      "estimate:  1.29151343637\n",
      "std error:  0.0127102226895\n",
      "\n",
      "Case II: N = 50\n",
      "estimate:  1.42265241217\n",
      "std error:  0.0133079266048\n"
     ]
    }
   ],
   "source": [
    "# Define the parameters\n",
    "S_0 = K = 100\n",
    "H = 95\n",
    "vol = 0.30\n",
    "r = 0.10\n",
    "T = 0.2\n",
    "n = 100000\n",
    "\n",
    "# CASE I: N = 25\n",
    "N = 25\n",
    "\n",
    "d_payoff_list = []\n",
    "for i in range(n):\n",
    "\n",
    "    # Generaete Price Process\n",
    "    S_t = price_process(N, T, r, vol, S_0)\n",
    "    \n",
    "    # Retrieve payoff\n",
    "    d_payoff = np.exp(-r*T)*max(S_t[-1]-K, 0)*(np.min(S_t) < H)\n",
    "    d_payoff_list.append( d_payoff )\n",
    "\n",
    "print(\"Case I: N = 25\")\n",
    "print(\"estimate: \", np.mean(d_payoff_list))\n",
    "print(\"std error: \", np.std(d_payoff_list)/np.sqrt(n))\n",
    "\n",
    "# CASE II: N = 50\n",
    "N = 50\n",
    "\n",
    "d_payoff_list = []\n",
    "for i in range(n):\n",
    "\n",
    "    # Generaete Price Process\n",
    "    S_t = price_process(N, T, r, vol, S_0)\n",
    "    \n",
    "    # Retrieve payoff\n",
    "    d_payoff = np.exp(-r*T)*max(S_t[-1]-K, 0)*(np.min(S_t) < H)\n",
    "    d_payoff_list.append( d_payoff )\n",
    "\n",
    "print(\"\\nCase II: N = 50\")\n",
    "print(\"estimate: \", np.mean(d_payoff_list))\n",
    "print(\"std error: \", np.std(d_payoff_list)/np.sqrt(n))\n"
   ]
  },
  {
   "cell_type": "markdown",
   "metadata": {},
   "source": [
    "### Part (b) \n",
    "Using conditional monte carlo whenever the price path falls below $H$. Report the estimates along with the standard errors for the $N=25$ and $N=50$ cases."
   ]
  },
  {
   "cell_type": "code",
   "execution_count": 308,
   "metadata": {},
   "outputs": [
    {
     "name": "stdout",
     "output_type": "stream",
     "text": [
      "\n",
      "Case I: N = 25\n",
      "H:  95\n",
      "K:  100\n",
      "Estimated option price:  0.217918038887\n",
      "Standard Error:  0.00138624023722\n",
      "\n",
      "Case II: N = 50\n",
      "H:  95\n",
      "K:  100\n",
      "Estimated option price:  0.220466490191\n",
      "Standard Error:  0.00131034964204\n"
     ]
    }
   ],
   "source": [
    "# Define the parameters\n",
    "S_0 = K = 100\n",
    "H = 95\n",
    "vol = 0.30\n",
    "r = 0.10\n",
    "T = 0.2\n",
    "n = 100000\n",
    "\n",
    "\n",
    "# Closed-form digital option function\n",
    "def cdi_hull_payoff( S_0, K, r, sig, T, H):\n",
    "    \n",
    "    lam = (r+0.5*sig**2)/(sig**2)\n",
    "    y = (np.log(H**2/(S_0*K))/(sig*np.sqrt(T))) + lam*sig*np.sqrt(T)\n",
    "    \n",
    "    return S_0*((H/S_0)**(2*lam))*norm.cdf(y) - K*np.exp(-r*T)*((H/S_0)**(2*lam-2))*norm.cdf(y-sig*np.sqrt(T))\n",
    "\n",
    "# Define the parameters\n",
    "S_0 = K = 100\n",
    "H = 95\n",
    "vol = 0.30\n",
    "r = 0.10\n",
    "T = 0.2\n",
    "n = 100000\n",
    "\n",
    "# CASE I: N = 25\n",
    "N = 25\n",
    "delta = T/N\n",
    "\n",
    "# Loop for each simulation\n",
    "dpayoff_list = [0 for i in range(100000)]\n",
    "for i in range(100000):\n",
    "\n",
    "    pp = [S_0]\n",
    "    for k in range(1,N):\n",
    "\n",
    "        S_kp1 = pp[-1]*np.exp( (r-0.5*sig**2)*delta + sig*np.sqrt(delta)*np.random.standard_normal() )\n",
    "        pp.append(S_kp1)\n",
    "\n",
    "        if S_kp1 >= H:\n",
    "            continue  \n",
    "        else:\n",
    "            tau = T-k*delta\n",
    "            dpayoff_list[i] = np.exp(-r*tau)*cdi_hull_payoff(pp[-1], K, r, sig, tau, H)\n",
    "            break    \n",
    "\n",
    "print(\"\\nCase I: N = 25\")\n",
    "print(\"H: \", H)\n",
    "print(\"K: \", K)\n",
    "print(\"Estimated option price: \", np.mean(dpayoff_list))\n",
    "print(\"Standard Error: \", np.std(dpayoff_list)/np.sqrt(100000))\n",
    "\n",
    "\n",
    "# CASE II: N = 50\n",
    "N = 50\n",
    "delta = T/N\n",
    "\n",
    "# Loop for each simulation\n",
    "dpayoff_list = [0 for i in range(100000)]\n",
    "for i in range(100000):\n",
    "\n",
    "    pp = [S_0]\n",
    "    for k in range(1,N):\n",
    "\n",
    "        S_kp1 = pp[-1]*np.exp( (r-0.5*sig**2)*delta + sig*np.sqrt(delta)*np.random.standard_normal() )\n",
    "        pp.append(S_kp1)\n",
    "\n",
    "        if S_kp1 >= H:\n",
    "            continue  \n",
    "        else:\n",
    "            tau = T-k*delta\n",
    "            dpayoff_list[i] = np.exp(-r*tau)*cdi_hull_payoff(pp[-1], K, r, sig, tau, H)\n",
    "            break    \n",
    "\n",
    "print(\"\\nCase II: N = 50\")\n",
    "print(\"H: \", H)\n",
    "print(\"K: \", K)\n",
    "print(\"Estimated option price: \", np.mean(dpayoff_list))\n",
    "print(\"Standard Error: \", np.std(dpayoff_list)/np.sqrt(100000))"
   ]
  },
  {
   "cell_type": "markdown",
   "metadata": {},
   "source": [
    "### Part (c)\n",
    "\n",
    "Changing the distribution of the normals so they're centered around $\\theta=-0.45,-0.30$ respecitively for $N=25,50$"
   ]
  },
  {
   "cell_type": "code",
   "execution_count": 309,
   "metadata": {},
   "outputs": [
    {
     "name": "stdout",
     "output_type": "stream",
     "text": [
      "\n",
      "Case I: N = 25\n",
      "H:  95\n",
      "K:  100\n",
      "Estimated option price:  0.411128784173\n",
      "Standard Error:  0.000749055981197\n",
      "\n",
      "Case II: N = 50\n",
      "H:  95\n",
      "K:  100\n",
      "Estimated option price:  0.497308982222\n",
      "Standard Error:  0.000906192916758\n"
     ]
    }
   ],
   "source": [
    "# Define the parameters\n",
    "S_0 = K = 100\n",
    "H = 95\n",
    "vol = 0.30\n",
    "r = 0.10\n",
    "T = 0.2\n",
    "n = 100000\n",
    "\n",
    "# Closed-form digital option function\n",
    "def cdi_hull_payoff( S_0, K, r, sig, T, H):\n",
    "    \n",
    "    lam = (r+0.5*sig**2)/(sig**2)\n",
    "    y = (np.log(H**2/(S_0*K))/(sig*np.sqrt(T))) + lam*sig*np.sqrt(T)\n",
    "    \n",
    "    return S_0*((H/S_0)**(2*lam))*norm.cdf(y) - K*np.exp(-r*T)*((H/S_0)**(2*lam-2))*norm.cdf(y-sig*np.sqrt(T))\n",
    "\n",
    "# Define the parameters\n",
    "S_0 = K = 100\n",
    "H = 95\n",
    "vol = 0.30\n",
    "r = 0.10\n",
    "T = 0.2\n",
    "n = 100000\n",
    "\n",
    "# CASE I: N = 25\n",
    "N = 25\n",
    "delta = T/N\n",
    "\n",
    "# Loop for each simulation\n",
    "dpayoff_list = [0 for i in range(100000)]\n",
    "for i in range(100000):\n",
    "\n",
    "    pp = [S_0]\n",
    "    for k in range(1,N):\n",
    "\n",
    "        x = np.random.normal(loc=-0.45)\n",
    "        S_kp1 = pp[-1]*np.exp( (r-0.5*sig**2)*delta + sig*np.sqrt(delta)*x )\n",
    "        pp.append(S_kp1)\n",
    "\n",
    "        if S_kp1 >= H:\n",
    "            continue  \n",
    "        else:\n",
    "            tau = T-k*delta\n",
    "            dpayoff_list[i] = np.exp(-r*tau)*cdi_hull_payoff(pp[-1], K, r, sig, tau, H)*np.exp(0.45*x - 0.5*0.45**2)\n",
    "            break    \n",
    "\n",
    "print(\"\\nCase I: N = 25\")\n",
    "print(\"H: \", H)\n",
    "print(\"K: \", K)\n",
    "print(\"Estimated option price: \", np.mean(dpayoff_list))\n",
    "print(\"Standard Error: \", np.std(dpayoff_list)/np.sqrt(100000))\n",
    "\n",
    "\n",
    "# CASE II: N = 50\n",
    "N = 50\n",
    "delta = T/N\n",
    "\n",
    "# Loop for each simulation\n",
    "dpayoff_list = [0 for i in range(100000)]\n",
    "for i in range(100000):\n",
    "\n",
    "    pp = [S_0]\n",
    "    for k in range(1,N):\n",
    "\n",
    "        x = np.random.normal(loc=-0.30)\n",
    "        S_kp1 = pp[-1]*np.exp( (r-0.5*sig**2)*delta + sig*np.sqrt(delta)*x )\n",
    "        pp.append(S_kp1)\n",
    "\n",
    "        if S_kp1 >= H:\n",
    "            continue  \n",
    "        else:\n",
    "            tau = T-k*delta\n",
    "            dpayoff_list[i] = np.exp(-r*tau)*cdi_hull_payoff(pp[-1], K, r, sig, tau, H)*np.exp(0.30*x - 0.5*0.30**2)\n",
    "            break    \n",
    "\n",
    "print(\"\\nCase II: N = 50\")\n",
    "print(\"H: \", H)\n",
    "print(\"K: \", K)\n",
    "print(\"Estimated option price: \", np.mean(dpayoff_list))\n",
    "print(\"Standard Error: \", np.std(dpayoff_list)/np.sqrt(100000))"
   ]
  }
 ],
 "metadata": {
  "kernelspec": {
   "display_name": "Python 3",
   "language": "python",
   "name": "python3"
  },
  "language_info": {
   "codemirror_mode": {
    "name": "ipython",
    "version": 3
   },
   "file_extension": ".py",
   "mimetype": "text/x-python",
   "name": "python",
   "nbconvert_exporter": "python",
   "pygments_lexer": "ipython3",
   "version": "3.6.3"
  }
 },
 "nbformat": 4,
 "nbformat_minor": 2
}
