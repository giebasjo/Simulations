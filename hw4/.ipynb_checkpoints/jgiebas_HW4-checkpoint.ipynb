{
 "cells": [
  {
   "cell_type": "markdown",
   "metadata": {},
   "source": [
    "# 46-932, Simulation Methods for Option Pricing: Homework 4\n",
    "\n",
    "*Author*: Jordan Giebas <br>\n",
    "*Due Date*: Feb. 15, 2018"
   ]
  },
  {
   "cell_type": "markdown",
   "metadata": {},
   "source": [
    "## Question 1: *Practice on Conditional Monte Carlo*"
   ]
  },
  {
   "cell_type": "markdown",
   "metadata": {},
   "source": [
    "Given the following SDES,\n",
    "\n",
    "$$ dS = rSdt + vSdW_1, \\ \\ \\  dv^2 = \\alpha v^2 dt + \\psi v^2 dW_2 $$\n",
    "\n",
    "Use an Euler discretization scheme to simulate the paths of the underlying. Do this for two cases, $(\\alpha,\\psi) = (.10,.10) ; (0.10, 1.0)$. The parameters are given as, <br>\n",
    "\n",
    "<ul>\n",
    "    <li> \n",
    "        $S_0 = K = 100$\n",
    "    <li>\n",
    "        $r=0.05$\n",
    "    <li>\n",
    "        $T = 1$\n",
    "    <li>\n",
    "        $v^2(0) = 0.04$\n",
    "    <li>\n",
    "        $N=50$\n",
    "</ul>"
   ]
  },
  {
   "cell_type": "markdown",
   "metadata": {},
   "source": [
    "### Part (a)\n",
    "Use standard Monte Carlo to estimate the call price and provide standard errors for both cases."
   ]
  },
  {
   "cell_type": "code",
   "execution_count": 28,
   "metadata": {},
   "outputs": [],
   "source": [
    "# Import needed modules\n",
    "import pandas as pd\n",
    "import numpy as np\n",
    "from numpy import exp, sqrt, log\n",
    "import scipy\n",
    "from scipy.stats import norm\n",
    "%matplotlib inline\n",
    "\n",
    "# Define problem parameters\n",
    "S_0 = K = 100\n",
    "r = 0.05\n",
    "T = 1.0\n",
    "X_0 = 0.04 # Let X = v^2, just keep this in mind as we go\n",
    "N = 50.0\n",
    "dt = T/N"
   ]
  },
  {
   "cell_type": "code",
   "execution_count": 123,
   "metadata": {},
   "outputs": [],
   "source": [
    "def pr1a( alpha, psi ):\n",
    "    \n",
    "    # Construct volatility dataframe\n",
    "    vol_df = pd.DataFrame(index=pd.RangeIndex(0,51), columns=pd.RangeIndex(1,10001))\n",
    "\n",
    "    # t0 - v^2 = X = 0.04, populate across columns\n",
    "    vol_df.loc[0,:] = 0.04\n",
    "\n",
    "    # Iterate using Euler Scheme\n",
    "    for i in range(1,len(vol_df.index)):\n",
    "        Z = np.random.standard_normal(size=10000)\n",
    "        vol_df.loc[i,:] = vol_df.loc[i-1,:] + alpha*vol_df.loc[i-1,:]*dt + psi*vol_df.loc[i-1,:]*np.sqrt(dt)*Z\n",
    "    \n",
    "    # Apply square root to every cell since we need v in underlying evolution\n",
    "    vol_df = vol_df.applymap(np.sqrt)\n",
    "    \n",
    "    # Construct stock dataframe\n",
    "    stock_df = pd.DataFrame(index=pd.RangeIndex(0,51), columns=pd.RangeIndex(1,10001))\n",
    "\n",
    "    # t0 - S_0 = 100\n",
    "    stock_df.loc[0,:] = S_0\n",
    "\n",
    "    # Iterate using Euler Scheme\n",
    "    for i in range(1,len(stock_df.index)):\n",
    "\n",
    "        Z = np.random.standard_normal(size=10000)\n",
    "        stock_df.loc[i,:] = stock_df.loc[i-1,:] + r*stock_df.loc[i-1,:]*dt + vol_df.loc[i-1,:]*stock_df.loc[i-1,:]*np.sqrt(dt)*Z\n",
    "\n",
    "    # Discount the payoffs\n",
    "    d_payoffs = np.exp(-r*T)*np.maximum(np.array(stock_df.loc[50,:]) - K,0)\n",
    "    print(\"Estimated Option Price: $%f \\nStandard Error: %f\" % (np.mean(d_payoffs),np.std(d_payoffs)/np.sqrt(10000)))"
   ]
  },
  {
   "cell_type": "code",
   "execution_count": 124,
   "metadata": {},
   "outputs": [
    {
     "name": "stdout",
     "output_type": "stream",
     "text": [
      "==== CASE I ====\n",
      "Estimated Option Price: $10.589414 \n",
      "Standard Error: 0.148981\n",
      "==== CASE II ====\n",
      "Estimated Option Price: $10.274827 \n",
      "Standard Error: 0.150224\n"
     ]
    }
   ],
   "source": [
    "# Case I\n",
    "print(\"==== CASE I ====\")\n",
    "pr1a(0.10,0.10)\n",
    "\n",
    "# Case II\n",
    "print(\"==== CASE II ====\")\n",
    "pr1a(0.10,1.0)"
   ]
  },
  {
   "cell_type": "markdown",
   "metadata": {},
   "source": [
    "### Part (b)\n",
    "Use conditional Monte Carlo. I.e., simulate the volatility paths and substitute $\\sigma$ with \n",
    "\n",
    "$$\\sqrt{\\frac{1}{N}\\sum_{i=1}^{N}\\sigma^2(i\\Delta)}$$\n",
    "\n",
    "in the Black-Scholes formula to yield the price results. "
   ]
  },
  {
   "cell_type": "code",
   "execution_count": 140,
   "metadata": {},
   "outputs": [],
   "source": [
    "# Define necessary functions for BS (with dividends) price\n",
    "def d_plus( x, K, tau, sigma, rfr, q ):\n",
    "    \n",
    "    return ( (log(x/K) + ((rfr - q + 0.5*(sigma**2))*tau))/(sigma*sqrt(tau)) )\n",
    "\n",
    "def d_minus( x, K, tau, sigma, rfr, q ):\n",
    "    \n",
    "    return ( d_plus(x, K, tau, sigma, rfr, q) - sigma*sqrt(tau) )\n",
    "\n",
    "def BS_price( x, K, r, sigma, tau, q ):\n",
    "    \n",
    "    d_1 = d_plus(x, K, tau, sigma, r, q)\n",
    "    d_2 = d_minus(x, K, tau, sigma, r, q)\n",
    "    \n",
    "    return ( x*exp(-1.0*q*tau)*norm.cdf(d_1) - K*exp(-1.0*r*tau)*norm.cdf(d_2) )"
   ]
  },
  {
   "cell_type": "code",
   "execution_count": 141,
   "metadata": {},
   "outputs": [],
   "source": [
    "def pr1b( alpha, psi ):\n",
    "\n",
    "    # Construct volatility dataframe\n",
    "    vol_df = pd.DataFrame(index=pd.RangeIndex(0,52), columns=pd.RangeIndex(1,10001))\n",
    "\n",
    "    # t0 - v^2 = X = 0.04, populate across columns\n",
    "    vol_df.loc[0,:] = 0.04\n",
    "\n",
    "    # Iterate using Euler Scheme\n",
    "    for i in range(1,len(vol_df.index)-1):\n",
    "        Z = np.random.standard_normal(size=10000)\n",
    "        vol_df.loc[i,:] = vol_df.loc[i-1,:] + 0.10*vol_df.loc[i-1,:]*dt + 0.10*vol_df.loc[i-1,:]*np.sqrt(dt)*Z\n",
    "\n",
    "    # Store squared sum as in 51st row\n",
    "    vol_sq_df = np.square(vol_df).copy()\n",
    "    vol_sq_df.loc[51,:] = vol_sq_df.loc[1:50,:].sum()/N\n",
    "    \n",
    "    # Get BS prices\n",
    "    bs_prices = [BS_price(S_0,K,r,np.sqrt(vol_sq_df.loc[51,j]),T,0) for j in range(1,10001)]\n",
    "    \n",
    "    # Report estimates\n",
    "    print(\"Conditional MCS Option Price: $%f \\nStandard Error: %f\" % (np.mean(bs_prices),np.std(bs_prices)/np.sqrt(10000)))"
   ]
  },
  {
   "cell_type": "code",
   "execution_count": 133,
   "metadata": {},
   "outputs": [],
   "source": []
  },
  {
   "cell_type": "code",
   "execution_count": 134,
   "metadata": {},
   "outputs": [
    {
     "name": "stdout",
     "output_type": "stream",
     "text": [
      "Conditional Monte Carlo Estimated Call Price:  14.1686711745\n",
      "Associated Standard Error:  0.00687212488416\n"
     ]
    }
   ],
   "source": [
    "print(\"Conditional Monte Carlo Estimated Call Price: \", np.mean(bs_prices))\n",
    "print(\"Associated Standard Error: \", np.std(bs_prices)/sqrt(10000))"
   ]
  },
  {
   "cell_type": "code",
   "execution_count": 142,
   "metadata": {},
   "outputs": [
    {
     "name": "stdout",
     "output_type": "stream",
     "text": [
      "==== CASE I ====\n",
      "Conditional MCS Option Price: $5.115913 \n",
      "Standard Error: 0.000490\n",
      "==== CASE II ====\n",
      "Conditional MCS Option Price: $5.115422 \n",
      "Standard Error: 0.000488\n"
     ]
    }
   ],
   "source": [
    "# Case I\n",
    "print(\"==== CASE I ====\")\n",
    "pr1b(0.10,0.10)\n",
    "\n",
    "# Case II\n",
    "print(\"==== CASE II ====\")\n",
    "pr1b(0.10,1.0)"
   ]
  },
  {
   "cell_type": "markdown",
   "metadata": {},
   "source": [
    "There is a variance reduction but we're off in the actual price of the call. "
   ]
  },
  {
   "cell_type": "markdown",
   "metadata": {},
   "source": [
    "### Question 2: *Practice on interest rate derivatives and CIR*"
   ]
  },
  {
   "cell_type": "markdown",
   "metadata": {},
   "source": [
    "Consider the CIR square root diffusion spot-rate model,\n",
    "\n",
    "$$ dr(t) = \\alpha(b-r(t))dt + \\sigma\\sqrt{r(t)}dW(t) $$\n",
    "\n",
    "where $t \\in [0,T]$. The parameteres are given below:\n",
    "\n",
    "<ul>\n",
    "    <li> $\\alpha = 0.2$\n",
    "    <li> $\\sigma = 0.1$\n",
    "    <li> $b = 0.05$\n",
    "    <li> $r(0) = 0.04$\n",
    "    <li> $N = 50$\n",
    "    <li> $n = 1000$\n",
    "</ul>\n",
    "\n",
    "Where $n,N$ are the number of paths and time steps respectively.\n",
    "\n",
    "### Part (a)\n",
    "\n",
    "Find the price of a zero coupon bond paying \\$1 at time $T=1$. "
   ]
  },
  {
   "cell_type": "code",
   "execution_count": 166,
   "metadata": {},
   "outputs": [
    {
     "name": "stdout",
     "output_type": "stream",
     "text": [
      "The bond price estimate is 0.959390 with a standard error of 0.000330\n"
     ]
    }
   ],
   "source": [
    "## Define pr2 parameters\n",
    "alpha = 0.2\n",
    "sigma = 0.1\n",
    "b = 0.05\n",
    "r_0 = 0.04\n",
    "n = 1000\n",
    "N = 50\n",
    "T = 1\n",
    "dt = T/N\n",
    "\n",
    "# Constant model parameter\n",
    "nu = (4*b*alpha)/(sigma**2)\n",
    "\n",
    "# Construct the interest rate process dataframe\n",
    "r_df = pd.DataFrame(index=pd.RangeIndex(0,52), columns=pd.RangeIndex(1,1001))\n",
    "r_df.iloc[0,:] = r_0\n",
    "\n",
    "# Since d > 1, we use Case I referencing Glasserman pg. 124\n",
    "for i in range(1,len(r_df)-1):\n",
    "    \n",
    "    ## Dynamic model parameters, since t-s = dt iterating over each time step\n",
    "    const = ((1-np.exp(-alpha*dt))*(sigma**2))/(4*alpha)\n",
    "    lam = r_df.loc[i-1,:]*(np.exp(-alpha*dt)/const)\n",
    "    \n",
    "    # Generate Standard Normal, non-central Chi-squared\n",
    "    #Z = np.random.standard_normal(size=1000)\n",
    "    X = np.random.noncentral_chisquare(df=nu,nonc=lam.tolist(),size=1000)\n",
    "    #X = np.random.chisquare(df=nu,size=1000)\n",
    "    \n",
    "    #r_df.loc[i,:] = const*( (Z + np.sqrt(lam.tolist()))**2 + X )\n",
    "    r_df.loc[i,:] = const*X\n",
    "    \n",
    "# Aggregate data\n",
    "r_df.loc[51,:] = r_df.loc[0:50,:].sum()\n",
    "arg = -1.0*dt*np.array(r_df.loc[51,:])\n",
    "c_i = np.exp(arg.tolist())\n",
    "\n",
    "# Report estimate / stderror\n",
    "print(\"The bond price estimate is %f with a standard error of %f\" % (np.mean(c_i),np.std(c_i)/np.sqrt(1000)))"
   ]
  },
  {
   "cell_type": "markdown",
   "metadata": {},
   "source": [
    "### Part (b)\n",
    "\n",
    "Price the caplet with payoff given below,\n",
    "\n",
    "$$ payoff = L\\delta(r(t)-R)^{+} $$ \n",
    "\n",
    "If the parameters are given by,\n",
    "\n",
    "<ul>\n",
    "    <li>$t=1$</li>\n",
    "    <li>$\\delta = \\frac{1}{12}$</li>\n",
    "    <li>$L=1$</li>\n",
    "    <li>$R=0.05$</li>\n",
    "</ul>\n",
    "    \n",
    "and the payoff occurs at $t=1$. \n",
    "    "
   ]
  },
  {
   "cell_type": "code",
   "execution_count": 167,
   "metadata": {},
   "outputs": [
    {
     "name": "stdout",
     "output_type": "stream",
     "text": [
      "The capelt price estimate is 0.000312 with a standard error of 0.000260\n"
     ]
    }
   ],
   "source": [
    "# Params\n",
    "L = 1\n",
    "R = 0.05\n",
    "delta = 1/12.0\n",
    "\n",
    "# Get payoffs\n",
    "payoffs = np.array(np.maximum(r_df.loc[50,:] - R,0))\n",
    "\n",
    "# Discount the payoffs\n",
    "d_payoffs = np.multiply(np.exp(-1.0*np.array(r_df.loc[49,:].tolist())), payoffs)\n",
    "\n",
    "# Report estimate / standard error\n",
    "print(\"The capelt price estimate is %f with a standard error of %f\" % (np.mean(d_payoffs)/12.0,np.std(d_payoffs)/np.sqrt(1000)))"
   ]
  },
  {
   "cell_type": "markdown",
   "metadata": {},
   "source": [
    "## Question 3: *Replicating Glasserman's 'Greeks' methodology*\n",
    "\n",
    "Replicate the Delta and Vega values found in Table 1 on pg. 276 of the Glasserman and Broadie text: report the value and associated standard errors. Perform this replication using the resimulation, pathwise, and likelihood ratio methods. Use the following parameters:\n",
    "\n",
    "<ul>\n",
    "    <li>$r=0.10$</li>\n",
    "    <li>$K=100$</li>\n",
    "    <li>$\\delta = 0.03$</li>\n",
    "    <li>$\\sigma = 0.25$</li>\n",
    "    <li>$T=0.20$</li>\n",
    "    <li>$n=10000$</li>\n",
    "    <li>$h=0.0001$</li>\n",
    "</ul>\n",
    "\n",
    "Use the formulas in the Glassman text to simulate the Greeks, and $S_{T}$ as a control variable during the simulations."
   ]
  },
  {
   "cell_type": "code",
   "execution_count": 168,
   "metadata": {},
   "outputs": [],
   "source": [
    "# Define the global parameters\n",
    "r = 0.10\n",
    "K = 100\n",
    "q = 0.03\n",
    "sig = 0.25\n",
    "T = 0.20\n",
    "n = 10000\n",
    "h = 0.0001\n",
    "S_0 = 90"
   ]
  },
  {
   "cell_type": "markdown",
   "metadata": {},
   "source": [
    "The following four cells use numerical differentiation for the $\\Delta$ and $Vega$ with and without using $S_{T}$ as a control variable. "
   ]
  },
  {
   "cell_type": "code",
   "execution_count": 182,
   "metadata": {},
   "outputs": [
    {
     "name": "stdout",
     "output_type": "stream",
     "text": [
      "Resimulation No-Control Delta:  0.219548025341\n",
      "Resimulation No-Control Delta StdError: 0.00464206536708\n"
     ]
    }
   ],
   "source": [
    "# Delta no control \n",
    "\n",
    "# Generate price process starting from S_0 + h, S_0 - h, central differences\n",
    "ppmh_df = pd.DataFrame(index=pd.RangeIndex(start=0,stop=2001),columns=pd.RangeIndex(start=1, stop=10001))\n",
    "ppmh_df.loc[0,:]  = S_0 - h\n",
    "ppph_df = pd.DataFrame(index=pd.RangeIndex(start=0,stop=2001),columns=pd.RangeIndex(start=1, stop=10001))\n",
    "ppph_df.loc[0,:]  = S_0 + h\n",
    "\n",
    "# Populate DataFrame\n",
    "for i in range(1,len(ppmh_df)-1):\n",
    "    Z = np.random.standard_normal(size=10000)\n",
    "    ppmh_df.loc[i,:] = ppmh_df.loc[i-1,:]*np.exp( (r-q-0.5*(sig**2))*(h) + sig*np.sqrt(h)*Z )\n",
    "    ppph_df.loc[i,:] = ppph_df.loc[i-1,:]*np.exp( (r-q-0.5*(sig**2))*(h) + sig*np.sqrt(h)*Z )\n",
    "\n",
    "# Use central differences to get the derivative\n",
    "ppmh_df.loc[2000,:]  = np.maximum(ppmh_df.loc[1999,:] - K, 0)\n",
    "ppph_df.loc[2000,:] = np.maximum(ppph_df.loc[1999,:] - K, 0)\n",
    "central_diff = (np.subtract(np.array(ppph_df.loc[2000,:]), np.array(ppmh_df.loc[2000,:])))/(2*h)\n",
    "\n",
    "# Aggregate data\n",
    "resim_delta_noncontrol_estimate = np.exp(-r*T)*np.mean(central_diff)\n",
    "resim_delta_noncontrol_stderror = np.std(central_diff)/np.sqrt(10000)\n",
    "\n",
    "print(\"Resimulation No-Control Delta: \", resim_delta_noncontrol_estimate)\n",
    "print(\"Resimulation No-Control Delta StdError:\", resim_delta_noncontrol_stderror)"
   ]
  },
  {
   "cell_type": "code",
   "execution_count": 183,
   "metadata": {},
   "outputs": [
    {
     "name": "stdout",
     "output_type": "stream",
     "text": [
      "Resimulation Control Delta:  0.203337690447\n",
      "Resimulation Control Delta Std. Error:  0.00314438116481\n"
     ]
    }
   ],
   "source": [
    "# Delta with Control Variable S_T\n",
    "\n",
    "##  Define a list of all the price processes (list of lists)\n",
    "Y_  = central_diff.tolist()      \n",
    "X_  = ppph_df.loc[1999,:].tolist()\n",
    "\n",
    "# Get quantities needed for adjustment\n",
    "Y_bar = np.mean(Y_)\n",
    "X_bar = np.mean(X_)\n",
    "a_hat = -1.0*np.corrcoef(X_,Y_)[0][1]*(np.std(Y_)/np.std(X_))\n",
    "\n",
    "# Adjust Y\n",
    "Y_adj = Y_bar + a_hat*(S_0*np.exp(r*T) - X_bar)\n",
    "\n",
    "# Get estimates\n",
    "resim_delta_control_estimate = Y_adj\n",
    "resim_delta_control_stderror = (np.std(Y_)/np.sqrt(10000))*np.sqrt(1-(np.corrcoef(X_,Y_)[0][1]**2))\n",
    "\n",
    "# Report results\n",
    "print( \"Resimulation Control Delta: \", resim_delta_control_estimate )\n",
    "print( \"Resimulation Control Delta Std. Error: \", resim_delta_control_stderror )"
   ]
  },
  {
   "cell_type": "code",
   "execution_count": 184,
   "metadata": {},
   "outputs": [
    {
     "name": "stdout",
     "output_type": "stream",
     "text": [
      "Resimulation No-Control Vega:  11.7663697674\n",
      "Resimulation No-Control Vega StdError: 0.276742194052\n"
     ]
    }
   ],
   "source": [
    "# Vega without Control\n",
    "\n",
    "# Generate price process starting from S_0 + h, S_0 - h, central differences\n",
    "ppmh_vol_df = pd.DataFrame(index=pd.RangeIndex(start=0,stop=2001),columns=pd.RangeIndex(start=1, stop=10001))\n",
    "ppmh_vol_df.loc[0,:]  = S_0\n",
    "ppph_vol_df = pd.DataFrame(index=pd.RangeIndex(start=0,stop=2001),columns=pd.RangeIndex(start=1, stop=10001))\n",
    "ppph_vol_df.loc[0,:]  = S_0\n",
    "\n",
    "# Populate the dataframes\n",
    "for i in range(1,len(ppmh_vol_df)-1):\n",
    "    Z = np.random.standard_normal(size=10000)\n",
    "    ppmh_vol_df.loc[i,:] = ppmh_vol_df.loc[i-1,:]*np.exp( (r-q-0.5*((sig-h)**2))*(h) + (sig-h)*np.sqrt(h)*Z )\n",
    "    ppph_vol_df.loc[i,:]  = ppph_vol_df.loc[i-1,:]*np.exp( (r-q-0.5*((sig+h)**2))*(h) + (sig+h)*np.sqrt(h)*Z )\n",
    "    \n",
    "# Report metrics\n",
    "ppmh_vol_df.loc[2000,:]  = np.maximum(ppmh_vol_df.loc[1999,:] - K, 0)\n",
    "ppph_vol_df.loc[2000,:] = np.maximum(ppph_vol_df.loc[1999,:] - K, 0)\n",
    "central_diff = (np.subtract(np.array(ppph_vol_df.loc[2000,:]), np.array(ppmh_vol_df.loc[2000,:])))/(2*h)\n",
    "\n",
    "resim_vega_noncontrol_estimate = np.exp(-r*T)*np.mean(central_diff)\n",
    "resim_vega_noncontrol_stderror = np.std(central_diff)/np.sqrt(10000)\n",
    "\n",
    "print(\"Resimulation No-Control Vega: \", resim_vega_noncontrol_estimate)\n",
    "print(\"Resimulation No-Control Vega StdError:\", resim_vega_noncontrol_stderror)"
   ]
  },
  {
   "cell_type": "code",
   "execution_count": 185,
   "metadata": {},
   "outputs": [
    {
     "name": "stdout",
     "output_type": "stream",
     "text": [
      "Resimulation Control Vega:  10.4420234933\n",
      "Resimulation Control Vega Std. Error:  0.18094765573\n"
     ]
    }
   ],
   "source": [
    "# Vega with Control Variable S_T\n",
    "\n",
    "##  Define a list of all the price processes (list of lists)\n",
    "Y_  = central_diff.tolist()      \n",
    "X_  = ppph_vol_df.loc[1999,:].tolist()\n",
    "\n",
    "# Get quantities needed for adjustment\n",
    "Y_bar = np.mean(Y_)\n",
    "X_bar = np.mean(X_)\n",
    "\n",
    "a_hat = -1.0*np.corrcoef(X_,Y_)[0][1]*(np.std(Y_)/np.std(X_))\n",
    "\n",
    "Y_adj = Y_bar + a_hat*(S_0*np.exp(r*T) - X_bar)\n",
    "\n",
    "resim_vega_control_estimate = Y_adj\n",
    "resim_vega_control_stderror = (np.std(Y_)/np.sqrt(10000))*np.sqrt(1-(np.corrcoef(X_,Y_)[0][1]**2))\n",
    "\n",
    "print( \"Resimulation Control Vega: \", resim_vega_control_estimate )\n",
    "print( \"Resimulation Control Vega Std. Error: \", resim_vega_control_stderror )"
   ]
  },
  {
   "cell_type": "markdown",
   "metadata": {},
   "source": [
    "The following four cells use pathwise estimates for the $\\Delta$ and $Vega$ with and without using $S_{T}$ as a control variable. "
   ]
  },
  {
   "cell_type": "code",
   "execution_count": 186,
   "metadata": {},
   "outputs": [
    {
     "name": "stdout",
     "output_type": "stream",
     "text": [
      "Pathwise No-Control Delta:  0.214480111194\n",
      "Pathwise No-Control Delta Std. Error:  0.00454577411376\n"
     ]
    }
   ],
   "source": [
    "## Pathwise Estimates no control\n",
    "\n",
    "## Pathwise Delta - no control\n",
    "\n",
    "# Simulate a price process starting at S_0\n",
    "pprocess = pd.DataFrame(index=pd.RangeIndex(start=0,stop=2001),columns=pd.RangeIndex(start=1, stop=10001))\n",
    "pprocess.loc[0,:] = S_0\n",
    "\n",
    "# Populate the dataframes\n",
    "for i in range(1,len(pprocess)-1):\n",
    "    Z = np.random.standard_normal(size=10000)\n",
    "    pprocess.loc[i,:] = pprocess.loc[i-1,:]*np.exp( (r-q-0.5*(sig**2))*(h) + sig*np.sqrt(h)*Z )\n",
    "\n",
    "# Aggregate results\n",
    "pprocess.loc[2000,:] = np.where( pprocess.loc[1999,:] >= K, 1, 0)\n",
    "S_TbyS_0 = (np.exp(-r*T)/S_0)*pprocess.loc[1999,:]\n",
    "indicator = pprocess.loc[2000,:]\n",
    "res = np.multiply(S_TbyS_0,indicator)\n",
    "\n",
    "# Report \n",
    "pathwise_delta_noncontrol_estimate = np.exp(-r*T)*np.mean(res)\n",
    "pathwise_delta_noncontrol_stderror = np.std(res)/np.sqrt(10000)\n",
    "print(\"Pathwise No-Control Delta: \", pathwise_delta_noncontrol_estimate)\n",
    "print(\"Pathwise No-Control Delta Std. Error: \", pathwise_delta_noncontrol_stderror)"
   ]
  },
  {
   "cell_type": "code",
   "execution_count": 187,
   "metadata": {},
   "outputs": [
    {
     "name": "stdout",
     "output_type": "stream",
     "text": [
      "Pathwise Control Delta:  0.200702333441\n",
      "Pathwise Control Delta Std.Error:  0.00307040774613\n"
     ]
    }
   ],
   "source": [
    "## Pathwise Delta Control Variable S_T\n",
    "\n",
    "##  Define a list of all the price processes (list of lists)\n",
    "Y_  = res.tolist()      \n",
    "X_  = pprocess.loc[1999,:].tolist()\n",
    "\n",
    "# Get quantities needed for adjustment\n",
    "Y_bar = np.mean(Y_)\n",
    "X_bar = np.mean(X_)\n",
    "a_hat = -1.0*np.corrcoef(X_,Y_)[0][1]*(np.std(Y_)/np.std(X_))\n",
    "\n",
    "# Adjust the Y\n",
    "Y_adj = Y_bar + a_hat*(S_0*np.exp(r*T) - X_bar)\n",
    "\n",
    "# Report results\n",
    "resim_vega_control_estimate = Y_adj\n",
    "resim_vega_control_stderror = (np.std(Y_)/np.sqrt(10000))*np.sqrt(1-(np.corrcoef(X_,Y_)[0][1]**2))\n",
    "print( \"Pathwise Control Delta: \", resim_vega_control_estimate )\n",
    "print( \"Pathwise Control Delta Std.Error: \", resim_vega_control_stderror )"
   ]
  },
  {
   "cell_type": "code",
   "execution_count": 188,
   "metadata": {},
   "outputs": [
    {
     "name": "stdout",
     "output_type": "stream",
     "text": [
      "Pathwise No-Control Vega:  12.2815116664\n",
      "Pathwise No-Control Vega StdError: 0.276438835322\n"
     ]
    }
   ],
   "source": [
    "## Pathwise Vega no control\n",
    "\n",
    "# Simulate a price process starting at S_0\n",
    "pw_vol_process = pd.DataFrame(index=pd.RangeIndex(start=0,stop=2001),columns=pd.RangeIndex(start=1, stop=10001))\n",
    "pw_vol_process.loc[0,:] = S_0\n",
    "\n",
    "# Populate the dataframes\n",
    "for i in range(1,len(pw_vol_process)-1):\n",
    "    Z = np.random.standard_normal(size=10000)\n",
    "    pw_vol_process.loc[i,:] = pw_vol_process.loc[i-1,:]*np.exp( (r-q-0.5*(sig**2))*(h) + sig*np.sqrt(h)*Z )\n",
    "\n",
    "# Store indicator row\n",
    "pw_vol_process.loc[2000,:] = np.where( pw_vol_process.loc[1999,:] >= K, 1, 0)\n",
    "\n",
    "# Get the payoffs\n",
    "indicator = pw_vol_process.loc[2000,:]\n",
    "S_Tbysig = pw_vol_process.loc[1999,:]/sig\n",
    "term1 = np.log(np.divide(pw_vol_process.loc[1999,:],pw_vol_process.loc[0,:]).tolist()) - (r-q+0.5*sig**2)*T\n",
    "res = np.exp(-r*T)*np.multiply(np.multiply(indicator, S_Tbysig), term1)\n",
    "\n",
    "# Report results\n",
    "pathwise_vega_noncontrol_estimate = np.mean(res)\n",
    "pathwise_vega_noncontrol_stderror = np.std(res)/np.sqrt(10000)\n",
    "print(\"Pathwise No-Control Vega: \", pathwise_vega_noncontrol_estimate)\n",
    "print(\"Pathwise No-Control Vega StdError:\", pathwise_vega_noncontrol_stderror)"
   ]
  },
  {
   "cell_type": "code",
   "execution_count": 189,
   "metadata": {},
   "outputs": [
    {
     "name": "stdout",
     "output_type": "stream",
     "text": [
      "Pathwise Control Vega:  11.18925412\n",
      "Pathwise Control Vega Std.Error:  0.178789478126\n"
     ]
    }
   ],
   "source": [
    "## Pathwise Vega control variable S_T\n",
    "\n",
    "##  Define a list of all the price processes (list of lists)\n",
    "Y_  = res.tolist()      \n",
    "X_  = pw_vol_process.loc[1999,:].tolist()\n",
    "\n",
    "# Get quantities needed for adjustment\n",
    "Y_bar = np.mean(Y_)\n",
    "X_bar = np.mean(X_)\n",
    "a_hat = -1.0*np.corrcoef(X_,Y_)[0][1]*(np.std(Y_)/np.std(X_))\n",
    "\n",
    "# Adjust the Y\n",
    "Y_adj = Y_bar + a_hat*(S_0*np.exp(r*T) - X_bar)\n",
    "\n",
    "# Report results\n",
    "pathwise_vega_control_estimate = Y_adj\n",
    "pathwise_vega_control_stderror = (np.std(Y_)/np.sqrt(10000))*np.sqrt(1-(np.corrcoef(X_,Y_)[0][1]**2))\n",
    "print( \"Pathwise Control Vega: \", pathwise_vega_control_estimate )\n",
    "print( \"Pathwise Control Vega Std.Error: \", pathwise_vega_control_stderror )"
   ]
  },
  {
   "cell_type": "markdown",
   "metadata": {},
   "source": [
    "The following four cells use LLH for the $\\Delta$ and $Vega$ with and without using $S_{T}$ as a control variable. "
   ]
  },
  {
   "cell_type": "code",
   "execution_count": 181,
   "metadata": {},
   "outputs": [
    {
     "name": "stdout",
     "output_type": "stream",
     "text": [
      "LLH non-control Delta:  0.2137093933072956\n",
      "LLH non-control Delta Std.Error:  0.00754985451234\n"
     ]
    }
   ],
   "source": [
    "## Log Likelihood Method No Control\n",
    "\n",
    "## LLH Delta No Control\n",
    "\n",
    "# Simulate a price process starting at S_0\n",
    "pp_ = pd.DataFrame(index=pd.RangeIndex(start=0,stop=2001),columns=pd.RangeIndex(start=1, stop=10001))\n",
    "pp_.loc[0,:] = S_0\n",
    "\n",
    "# Populate the dataframes\n",
    "for i in range(1,len(pprocess)-1):\n",
    "    Z = np.random.standard_normal(size=10000)\n",
    "    pp_.loc[i,:] = pp_.loc[i-1,:]*np.exp( (r-q-0.5*(sig**2))*(h) + sig*np.sqrt(h)*Z )\n",
    "    \n",
    "# Put payoff as last row\n",
    "pp_.loc[2000,:] = np.maximum(pp_.loc[1999,:] - K, 0)\n",
    "\n",
    "# Get the individual quantities to average over\n",
    "term  = np.log(np.divide(pp_.loc[1999,:],pp_.loc[0,:]).tolist()) - (r-q+0.5*sig**2)*T\n",
    "term /= S_0*(sig**2)*T  \n",
    "res = np.exp(-r*T)*np.multiply(np.array(pp_.loc[2000,:]), term)\n",
    "\n",
    "# Report results\n",
    "llh_delta_noncontrol_estimate = np.mean(res)\n",
    "llh_delta_noncontrol_stderror = np.std(res)/np.sqrt(10000)  \n",
    "print( \"LLH non-control Delta: \", llh_delta_noncontrol_estimate )\n",
    "print( \"LLH non-control Delta Std.Error: \", llh_delta_noncontrol_stderror )"
   ]
  },
  {
   "cell_type": "code",
   "execution_count": 190,
   "metadata": {},
   "outputs": [
    {
     "name": "stdout",
     "output_type": "stream",
     "text": [
      "LLH Control Delta:  12.2945334843\n",
      "LLH Control Delta Std.Error:  0.276422496541\n"
     ]
    }
   ],
   "source": [
    "## LLH Delta Control Variable S_T\n",
    "\n",
    "##  Define a list of all the price processes (list of lists)\n",
    "Y_  = res.tolist()      \n",
    "X_  = pp_.loc[1999,:].tolist()\n",
    "\n",
    "# Get quantities needed for adjustment\n",
    "Y_bar = np.mean(Y_)\n",
    "X_bar = np.mean(X_)\n",
    "\n",
    "a_hat = -1.0*np.corrcoef(X_,Y_)[0][1]*(np.std(Y_)/np.std(X_))\n",
    "Y_adj = Y_bar + a_hat*(S_0*np.exp(r*T) - X_bar)\n",
    "\n",
    "llh_delta_control_estimate = Y_adj\n",
    "llh_delta_control_stderror = (np.std(Y_)/np.sqrt(10000))*np.sqrt(1-(np.corrcoef(X_,Y_)[0][1]**2))\n",
    "\n",
    "print( \"LLH Control Delta: \", llh_delta_control_estimate )\n",
    "print( \"LLH Control Delta Std.Error: \", llh_delta_control_stderror )"
   ]
  },
  {
   "cell_type": "code",
   "execution_count": 191,
   "metadata": {},
   "outputs": [
    {
     "name": "stdout",
     "output_type": "stream",
     "text": [
      "LLH non-control Vega:  12.6454919763\n",
      "LLH non-control Vega Std.Error:  0.681945856413\n"
     ]
    }
   ],
   "source": [
    "## LLH Vega No Control\n",
    "\n",
    "# Simulate a price process starting at S_0\n",
    "pp_ = pd.DataFrame(index=pd.RangeIndex(start=0,stop=2001),columns=pd.RangeIndex(start=1, stop=10001))\n",
    "pp_.loc[0,:] = S_0\n",
    "\n",
    "# Populate the dataframes\n",
    "for i in range(1,len(pprocess)-1):\n",
    "    Z = np.random.standard_normal(size=10000)\n",
    "    pp_.loc[i,:] = pp_.loc[i-1,:]*np.exp( (r-q-0.5*(sig**2))*(h) + sig*np.sqrt(h)*Z )\n",
    "    \n",
    "# Put payoff as last row\n",
    "pp_.loc[2000,:] = np.maximum(pp_.loc[1999,:] - K, 0)\n",
    "\n",
    "# Get the individual quantities to average over\n",
    "u  = np.log(np.divide(pp_.loc[1999,:],pp_.loc[0,:]).tolist()) - (r-q-0.5*sig**2)*T\n",
    "term = (-u/(sig*np.sqrt(T)))*(np.sqrt(T) - u/(sig**2 * np.sqrt(T))) - 1/sig\n",
    "\n",
    "res = np.multiply(term, pp_.loc[2000,:])\n",
    "\n",
    "llh_vega_noncontrol_estimate = np.exp(-r*T)*np.mean(res)\n",
    "llh_vega_noncontrol_stderror = np.std(res)/np.sqrt(10000)\n",
    "    \n",
    "print( \"LLH non-control Vega: \", llh_vega_noncontrol_estimate )\n",
    "print( \"LLH non-control Vega Std.Error: \", llh_vega_noncontrol_stderror )"
   ]
  },
  {
   "cell_type": "code",
   "execution_count": 192,
   "metadata": {},
   "outputs": [
    {
     "name": "stdout",
     "output_type": "stream",
     "text": [
      "LLH Control Vega:  11.6395982639\n",
      "LLH Control Vega Std.Error:  0.59941154759\n"
     ]
    }
   ],
   "source": [
    "## LLH Vega Control Variable S_T\n",
    "\n",
    "##  Define a list of all the price processes (list of lists)\n",
    "Y_  = res.tolist()      \n",
    "X_  = pp_.loc[1999,:].tolist()\n",
    "\n",
    "# Get quantities needed for adjustment\n",
    "Y_bar = np.mean(Y_)\n",
    "X_bar = np.mean(X_)\n",
    "\n",
    "a_hat = -1.0*np.corrcoef(X_,Y_)[0][1]*(np.std(Y_)/np.std(X_))\n",
    "Y_adj = Y_bar + a_hat*(S_0*np.exp(r*T) - X_bar)\n",
    "\n",
    "llh_vega_control_estimate = Y_adj\n",
    "llh_vega_control_stderror = (np.std(Y_)/np.sqrt(10000))*np.sqrt(1-(np.corrcoef(X_,Y_)[0][1]**2))\n",
    "\n",
    "print( \"LLH Control Vega: \", llh_vega_control_estimate )\n",
    "print( \"LLH Control Vega Std.Error: \", llh_vega_control_stderror )"
   ]
  },
  {
   "cell_type": "markdown",
   "metadata": {},
   "source": [
    "## Question 4: *Applying Broadie and Glasserman to Digital Options*\n",
    "\n",
    "Consider a digital option paying \\$1 if $S_{T} \\geq K$. Assume the asset price is a GBM under the risk neutral measure. The parameters for this problem are given by the following,\n",
    "\n",
    "<ul>\n",
    "    <li>$S_0 = 95$</li>\n",
    "    <li>$K = 100$</li>\n",
    "    <li>$r=0.05$</li>\n",
    "    <li>$\\sigma = 0.20$</li>\n",
    "    <li>$T=1$</li>\n",
    "    <li>$n=10000$</li>\n",
    "    <li>$h=0.0001$</li>\n",
    "</ul>"
   ]
  },
  {
   "cell_type": "markdown",
   "metadata": {},
   "source": [
    "### Part (a)\n",
    "Using the closed-form expression for the price of a digital option, compute the price and delta of this option. <br>\n",
    "**Note:** The delta is given by \n",
    "\n",
    "$$ \\frac{dP}{dS} = \\frac{d}{dS}\\big[e^{-rT}\\Phi(-d)\\big] $$\n",
    "\n",
    "where \n",
    "\n",
    "$$ d := \\frac{ln\\big(\\frac{K}{S_0}\\big) - (r-\\frac{1}{2}\\sigma^2)T\\big)}{\\sigma\\sqrt{T}} $$\n",
    "\n",
    "Hence,\n",
    "\n",
    "$$ \\Delta^{Digital} = \\frac{1}{S_0\\sigma\\sqrt{2\\pi T}}exp\\{-(\\frac{1}{2}d^2+rT)\\} $$"
   ]
  },
  {
   "cell_type": "code",
   "execution_count": 193,
   "metadata": {},
   "outputs": [],
   "source": [
    "# Price of digital option\n",
    "def digital_option(S_0, T, sigma, r, K):\n",
    "    \n",
    "    d = (np.log(K/S_0) - (r-0.5*sigma**2)*T)/(sigma*np.sqrt(T))\n",
    "    \n",
    "    return np.exp(-r*T)*scipy.stats.norm.cdf(-1.0*d)\n",
    "\n",
    "# Delta of digital option\n",
    "def delta_digital_option(S_0, T, sigma, r, K):\n",
    "    \n",
    "    d = (np.log(K/S_0) - (r-0.5*sigma**2)*T)/(sigma*np.sqrt(T))\n",
    "    \n",
    "    return np.exp(-0.5*d**2 - r*T)/(S_0*sigma*np.sqrt(2*np.pi*T))"
   ]
  },
  {
   "cell_type": "code",
   "execution_count": 194,
   "metadata": {},
   "outputs": [
    {
     "name": "stdout",
     "output_type": "stream",
     "text": [
      "The price of the option is:  0.435288413642\n",
      "The delta of the option is:  0.019860050706\n"
     ]
    }
   ],
   "source": [
    "# Define parameters, compute price and delta\n",
    "S_0 = 95\n",
    "K = 100\n",
    "r = 0.05\n",
    "sig = 0.20\n",
    "T = 1\n",
    "\n",
    "print(\"The price of the option is: \", digital_option(S_0,T,sig,r,K))\n",
    "print(\"The delta of the option is: \", delta_digital_option(S_0,T,sig,r,K))"
   ]
  },
  {
   "cell_type": "markdown",
   "metadata": {},
   "source": [
    "### Part (b) \n",
    "Use the resimulation method to estimate the delta of the option. Compare with the closed form expression given part (a)."
   ]
  },
  {
   "cell_type": "code",
   "execution_count": 199,
   "metadata": {},
   "outputs": [
    {
     "name": "stdout",
     "output_type": "stream",
     "text": [
      "The delta estimate is 0.331145 and the standard error is 0.005175\n"
     ]
    }
   ],
   "source": [
    "h = 0.0001\n",
    "ppph_df = pd.DataFrame(index=pd.RangeIndex(start=0,stop=2001),columns=pd.RangeIndex(start=1, stop=10001))\n",
    "ppph_df.loc[0,:] = S_0 + h\n",
    "ppmh_df = pd.DataFrame(index=pd.RangeIndex(start=0,stop=2001),columns=pd.RangeIndex(start=1, stop=10001))\n",
    "ppmh_df.loc[0,:] = S_0 - h\n",
    "\n",
    "for i in range(1, len(ppph_df)-1):\n",
    "\n",
    "    Z = np.random.standard_normal(size=10000)\n",
    "    ppph_df.loc[i,:] = ppph_df.loc[i-1,:]*np.exp( (r-0.5*(sig**2))*h + sig*np.sqrt(h)*Z )\n",
    "    ppmh_df.loc[i,:] = ppmh_df.loc[i-1,:]*np.exp( (r-0.5*(sig**2))*h + sig*np.sqrt(h)*Z )\n",
    "    \n",
    "ppph_df.loc[2000,:] = np.maximum(ppph_df.loc[1999,:]-K,0)\n",
    "ppmh_df.loc[2000,:] = np.maximum(ppmh_df.loc[1999,:]-K,0)\n",
    "\n",
    "diff = np.subtract(ppph_df.loc[2000,:], ppmh_df.loc[2000,:])/(2*h)\n",
    "\n",
    "pr4_b_estimate = np.mean(diff)\n",
    "pr4_b_stderror = np.std(diff)/np.sqrt(10000)\n",
    "\n",
    "print(\"The delta estimate is %f and the standard error is %f\" % (np.exp(-r*T)*pr4_b_estimate,pr4_b_stderror))"
   ]
  },
  {
   "cell_type": "markdown",
   "metadata": {},
   "source": [
    "### Part (c)\n",
    "Use the liklihood method to estimate the delta of the option. Compoare with the closed form expression given in part (a)."
   ]
  },
  {
   "cell_type": "code",
   "execution_count": 211,
   "metadata": {},
   "outputs": [
    {
     "name": "stdout",
     "output_type": "stream",
     "text": [
      "The LLH delta estimate is 0.002797 and the standard error is 0.000080\n"
     ]
    }
   ],
   "source": [
    "h = 0.0001\n",
    "# Simulate a price process starting at S_0\n",
    "pp_ = pd.DataFrame(index=pd.RangeIndex(start=0,stop=2001),columns=pd.RangeIndex(start=1, stop=10001))\n",
    "pp_.loc[0,:] = S_0\n",
    "\n",
    "# Populate the dataframes\n",
    "for i in range(1,len(pp_)-1):\n",
    "    Z = np.random.standard_normal(size=10000)\n",
    "    pp_.loc[i,:] = pp_.loc[i-1,:]*np.exp( (r-0.5*(sig**2))*(h) + sig*np.sqrt(h)*Z )\n",
    "    \n",
    "# Put payoff as last row (digital)\n",
    "pp_.loc[2000,:] = np.where(pp_.loc[1999,:] >= K, 1, 0)\n",
    "\n",
    "# Get the individual quantities to average over\n",
    "term  = np.log(np.divide(pp_.loc[1999,:],pp_.loc[0,:]).tolist()) - (r+0.5*sig**2)*T\n",
    "term /= S_0*(sig**2)*T  \n",
    "res = np.multiply(np.array(pp_.loc[2000,:]), term)\n",
    "\n",
    "# Get estimates\n",
    "pr4c_estimate = np.mean(res)\n",
    "pr4c_stderror = np.std(res)/np.sqrt(10000)\n",
    "    \n",
    "# Report\n",
    "print(\"The LLH delta estimate is %f and the standard error is %f\" % (np.exp(-r*T)*pr4c_estimate,pr4c_stderror))"
   ]
  }
 ],
 "metadata": {
  "kernelspec": {
   "display_name": "Python 3",
   "language": "python",
   "name": "python3"
  },
  "language_info": {
   "codemirror_mode": {
    "name": "ipython",
    "version": 3
   },
   "file_extension": ".py",
   "mimetype": "text/x-python",
   "name": "python",
   "nbconvert_exporter": "python",
   "pygments_lexer": "ipython3",
   "version": "3.6.3"
  }
 },
 "nbformat": 4,
 "nbformat_minor": 2
}
