{
 "cells": [
  {
   "cell_type": "markdown",
   "metadata": {},
   "source": [
    "# 46-932, Simulation Methods for Option Pricing: Homework 4\n",
    "\n",
    "*Author*: Jordan Giebas <br>\n",
    "*Due Date*: Feb. 15, 2018"
   ]
  },
  {
   "cell_type": "markdown",
   "metadata": {},
   "source": [
    "## Question 1: *Practice on Conditional Monte Carlo*"
   ]
  },
  {
   "cell_type": "markdown",
   "metadata": {},
   "source": [
    "Given the following SDES,\n",
    "\n",
    "$$ dS = rSdt + vSdW_1, \\ \\ \\  dv^2 = \\alpha v^2 dt + \\psi v^2 dW_2 $$\n",
    "\n",
    "Use an Euler discretization scheme to simulate the paths of the underlying. Do this for two cases, $(\\alpha,\\psi) = (.10,.10) ; (0.10, 1.0)$. The parameters are given as, <br>\n",
    "\n",
    "<ul>\n",
    "    <li> \n",
    "        $S_0 = K = 100$\n",
    "    <li>\n",
    "        $r=0.05$\n",
    "    <li>\n",
    "        $T = 1$\n",
    "    <li>\n",
    "        $v^2(0) = 0.04$\n",
    "    <li>\n",
    "        $N=50$\n",
    "</ul>"
   ]
  },
  {
   "cell_type": "markdown",
   "metadata": {},
   "source": [
    "### Part (a)\n",
    "Use standard Monte Carlo to estimate the call price and provide standard errors for both cases."
   ]
  },
  {
   "cell_type": "code",
   "execution_count": 1,
   "metadata": {},
   "outputs": [],
   "source": [
    "# Import needed modules\n",
    "import pandas as pd\n",
    "import numpy as np\n",
    "from numpy import exp, sqrt, log\n",
    "import scipy\n",
    "from scipy.stats import norm\n",
    "%matplotlib inline\n",
    "\n",
    "# Define problem parameters\n",
    "S_0 = K = 100\n",
    "r = 0.05\n",
    "T = 1.0\n",
    "X_0 = 0.04 # Let X = v^2, just keep this in mind as we go\n",
    "N = 50.0\n",
    "dt = T/N"
   ]
  },
  {
   "cell_type": "code",
   "execution_count": 2,
   "metadata": {},
   "outputs": [],
   "source": [
    "def pr1a( alpha, psi ):\n",
    "    \n",
    "    # Construct volatility dataframe\n",
    "    vol_df = pd.DataFrame(index=pd.RangeIndex(0,51), columns=pd.RangeIndex(1,10001))\n",
    "\n",
    "    # t0 - v^2 = X = 0.04, populate across columns\n",
    "    vol_df.loc[0,:] = 0.04\n",
    "\n",
    "    # Iterate using Euler Scheme\n",
    "    for i in range(1,len(vol_df.index)):\n",
    "        Z = np.random.standard_normal(size=10000)\n",
    "        vol_df.loc[i,:] = vol_df.loc[i-1,:] + alpha*vol_df.loc[i-1,:]*dt + psi*vol_df.loc[i-1,:]*np.sqrt(dt)*Z\n",
    "    \n",
    "    # Apply square root to every cell since we need v in underlying evolution\n",
    "    vol_df = vol_df.applymap(np.sqrt)\n",
    "    \n",
    "    # Construct stock dataframe\n",
    "    stock_df = pd.DataFrame(index=pd.RangeIndex(0,51), columns=pd.RangeIndex(1,10001))\n",
    "\n",
    "    # t0 - S_0 = 100\n",
    "    stock_df.loc[0,:] = S_0\n",
    "\n",
    "    # Iterate using Euler Scheme\n",
    "    for i in range(1,len(stock_df.index)):\n",
    "\n",
    "        Z = np.random.standard_normal(size=10000)\n",
    "        stock_df.loc[i,:] = stock_df.loc[i-1,:] + r*stock_df.loc[i-1,:]*dt + vol_df.loc[i-1,:]*stock_df.loc[i-1,:]*np.sqrt(dt)*Z\n",
    "\n",
    "    # Discount the payoffs\n",
    "    d_payoffs = np.exp(-r*T)*np.maximum(np.array(stock_df.loc[50,:]) - K,0)\n",
    "    print(\"Estimated Option Price: $%f \\nStandard Error: %f\" % (np.mean(d_payoffs),np.std(d_payoffs)/np.sqrt(10000)))"
   ]
  },
  {
   "cell_type": "code",
   "execution_count": 3,
   "metadata": {},
   "outputs": [
    {
     "name": "stdout",
     "output_type": "stream",
     "text": [
      "==== CASE I ====\n",
      "Estimated Option Price: $10.612523 \n",
      "Standard Error: 0.150179\n",
      "==== CASE II ====\n",
      "Estimated Option Price: $10.477421 \n",
      "Standard Error: 0.153882\n"
     ]
    }
   ],
   "source": [
    "# Case I\n",
    "print(\"==== CASE I ====\")\n",
    "pr1a(0.10,0.10)\n",
    "\n",
    "# Case II\n",
    "print(\"==== CASE II ====\")\n",
    "pr1a(0.10,1.0)"
   ]
  },
  {
   "cell_type": "markdown",
   "metadata": {},
   "source": [
    "### Part (b)\n",
    "Use conditional Monte Carlo. I.e., simulate the volatility paths and substitute $\\sigma$ with \n",
    "\n",
    "$$\\sqrt{\\frac{1}{N}\\sum_{i=1}^{N}\\sigma^2(i\\Delta)}$$\n",
    "\n",
    "in the Black-Scholes formula to yield the price results. "
   ]
  },
  {
   "cell_type": "code",
   "execution_count": 4,
   "metadata": {},
   "outputs": [
    {
     "ename": "NameError",
     "evalue": "name 'alpha' is not defined",
     "output_type": "error",
     "traceback": [
      "\u001b[0;31m---------------------------------------\u001b[0m",
      "\u001b[0;31mNameError\u001b[0mTraceback (most recent call last)",
      "\u001b[0;32m<ipython-input-4-cc6693364fdf>\u001b[0m in \u001b[0;36m<module>\u001b[0;34m()\u001b[0m\n\u001b[1;32m      8\u001b[0m \u001b[0;32mfor\u001b[0m \u001b[0mi\u001b[0m \u001b[0;32min\u001b[0m \u001b[0mrange\u001b[0m\u001b[0;34m(\u001b[0m\u001b[0;36m1\u001b[0m\u001b[0;34m,\u001b[0m\u001b[0mlen\u001b[0m\u001b[0;34m(\u001b[0m\u001b[0mvol_df\u001b[0m\u001b[0;34m.\u001b[0m\u001b[0mindex\u001b[0m\u001b[0;34m)\u001b[0m\u001b[0;34m-\u001b[0m\u001b[0;36m1\u001b[0m\u001b[0;34m)\u001b[0m\u001b[0;34m:\u001b[0m\u001b[0;34m\u001b[0m\u001b[0m\n\u001b[1;32m      9\u001b[0m     \u001b[0mZ\u001b[0m \u001b[0;34m=\u001b[0m \u001b[0mnp\u001b[0m\u001b[0;34m.\u001b[0m\u001b[0mrandom\u001b[0m\u001b[0;34m.\u001b[0m\u001b[0mstandard_normal\u001b[0m\u001b[0;34m(\u001b[0m\u001b[0msize\u001b[0m\u001b[0;34m=\u001b[0m\u001b[0;36m10000\u001b[0m\u001b[0;34m)\u001b[0m\u001b[0;34m\u001b[0m\u001b[0m\n\u001b[0;32m---> 10\u001b[0;31m     \u001b[0mvol_df\u001b[0m\u001b[0;34m.\u001b[0m\u001b[0mloc\u001b[0m\u001b[0;34m[\u001b[0m\u001b[0mi\u001b[0m\u001b[0;34m,\u001b[0m\u001b[0;34m:\u001b[0m\u001b[0;34m]\u001b[0m \u001b[0;34m=\u001b[0m \u001b[0mvol_df\u001b[0m\u001b[0;34m.\u001b[0m\u001b[0mloc\u001b[0m\u001b[0;34m[\u001b[0m\u001b[0mi\u001b[0m\u001b[0;34m-\u001b[0m\u001b[0;36m1\u001b[0m\u001b[0;34m,\u001b[0m\u001b[0;34m:\u001b[0m\u001b[0;34m]\u001b[0m \u001b[0;34m+\u001b[0m \u001b[0malpha\u001b[0m\u001b[0;34m*\u001b[0m\u001b[0mvol_df\u001b[0m\u001b[0;34m.\u001b[0m\u001b[0mloc\u001b[0m\u001b[0;34m[\u001b[0m\u001b[0mi\u001b[0m\u001b[0;34m-\u001b[0m\u001b[0;36m1\u001b[0m\u001b[0;34m,\u001b[0m\u001b[0;34m:\u001b[0m\u001b[0;34m]\u001b[0m\u001b[0;34m*\u001b[0m\u001b[0mdt\u001b[0m \u001b[0;34m+\u001b[0m \u001b[0mpsi\u001b[0m\u001b[0;34m*\u001b[0m\u001b[0mvol_df\u001b[0m\u001b[0;34m.\u001b[0m\u001b[0mloc\u001b[0m\u001b[0;34m[\u001b[0m\u001b[0mi\u001b[0m\u001b[0;34m-\u001b[0m\u001b[0;36m1\u001b[0m\u001b[0;34m,\u001b[0m\u001b[0;34m:\u001b[0m\u001b[0;34m]\u001b[0m\u001b[0;34m*\u001b[0m\u001b[0mnp\u001b[0m\u001b[0;34m.\u001b[0m\u001b[0msqrt\u001b[0m\u001b[0;34m(\u001b[0m\u001b[0mdt\u001b[0m\u001b[0;34m)\u001b[0m\u001b[0;34m*\u001b[0m\u001b[0mZ\u001b[0m\u001b[0;34m\u001b[0m\u001b[0m\n\u001b[0m\u001b[1;32m     11\u001b[0m \u001b[0;34m\u001b[0m\u001b[0m\n\u001b[1;32m     12\u001b[0m \u001b[0;31m# Store squared sum as in 51st row\u001b[0m\u001b[0;34m\u001b[0m\u001b[0;34m\u001b[0m\u001b[0m\n",
      "\u001b[0;31mNameError\u001b[0m: name 'alpha' is not defined"
     ]
    }
   ],
   "source": [
    "# Construct volatility dataframe\n",
    "vol_df = pd.DataFrame(index=pd.RangeIndex(0,52), columns=pd.RangeIndex(1,10001))\n",
    "\n",
    "# t0 - v^2 = X = 0.04, populate across columns\n",
    "vol_df.loc[0,:] = 0.04\n",
    "\n",
    "# Iterate using Euler Scheme\n",
    "for i in range(1,len(vol_df.index)-1):\n",
    "    Z = np.random.standard_normal(size=10000)\n",
    "    vol_df.loc[i,:] = vol_df.loc[i-1,:] + alpha*vol_df.loc[i-1,:]*dt + psi*vol_df.loc[i-1,:]*np.sqrt(dt)*Z\n",
    "    \n",
    "# Store squared sum as in 51st row\n",
    "vol_df.loc[51,:] = np.square(vol_df.loc[1:50,:]).sum()\n",
    "\n",
    "# Get only the first 50 columns\n",
    "tmp = vol_df.loc[1:50,:]\n",
    "tmp = tmp.applymap(np.square)\n",
    "vol_df.loc[51,:] = [tmp[i].sum() for i in range(1,10001)]"
   ]
  },
  {
   "cell_type": "code",
   "execution_count": 5,
   "metadata": {},
   "outputs": [],
   "source": [
    "# Define necessary functions for BS (with dividends) price\n",
    "def d_plus( x, K, tau, sigma, rfr, q ):\n",
    "    \n",
    "    return ( (log(x/K) + ((rfr - q + 0.5*(sigma**2))*tau))/(sigma*sqrt(tau)) )\n",
    "\n",
    "def d_minus( x, K, tau, sigma, rfr, q ):\n",
    "    \n",
    "    return ( d_plus(x, K, tau, sigma, rfr, q) - sigma*sqrt(tau) )\n",
    "\n",
    "def BS_price( x, K, r, sigma, tau, q ):\n",
    "    \n",
    "    d_1 = d_plus(x, K, tau, sigma, r, q)\n",
    "    d_2 = d_minus(x, K, tau, sigma, r, q)\n",
    "    \n",
    "    return ( x*exp(-1.0*q*tau)*norm.cdf(d_1) - K*exp(-1.0*r*tau)*norm.cdf(d_2) )"
   ]
  },
  {
   "cell_type": "code",
   "execution_count": 6,
   "metadata": {},
   "outputs": [],
   "source": [
    "bs_prices = [BS_price(S_0,K,r,vol_df.loc[51,j],T,0) for j in range(1,10001)]"
   ]
  },
  {
   "cell_type": "code",
   "execution_count": 7,
   "metadata": {},
   "outputs": [
    {
     "name": "stdout",
     "output_type": "stream",
     "text": [
      "Conditional Monte Carlo Estimated Call Price:  nan\n",
      "Associated Standard Error:  nan\n"
     ]
    }
   ],
   "source": [
    "print(\"Conditional Monte Carlo Estimated Call Price: \", np.mean(bs_prices))\n",
    "print(\"Associated Standard Error: \", np.std(bs_prices)/sqrt(10000))"
   ]
  },
  {
   "cell_type": "markdown",
   "metadata": {},
   "source": [
    "There is a variance reduction but we're off in the actual price of the call. "
   ]
  },
  {
   "cell_type": "markdown",
   "metadata": {},
   "source": [
    "### Question 2: *Practice on interest rate derivatives and CIR*"
   ]
  },
  {
   "cell_type": "markdown",
   "metadata": {},
   "source": [
    "Consider the CIR square root diffusion spot-rate model,\n",
    "\n",
    "$$ dr(t) = \\alpha(b-r(t))dt + \\sigma\\sqrt{r(t)}dW(t) $$\n",
    "\n",
    "where $t \\in [0,T]$. The parameteres are given below:\n",
    "\n",
    "<ul>\n",
    "    <li> $\\alpha = 0.2$\n",
    "    <li> $\\sigma = 0.1$\n",
    "    <li> $b = 0.05$\n",
    "    <li> $r(0) = 0.04$\n",
    "    <li> $N = 50$\n",
    "    <li> $n = 1000$\n",
    "</ul>\n",
    "\n",
    "Where $n,N$ are the number of paths and time steps respectively.\n",
    "\n",
    "### Part (a)\n",
    "\n",
    "Find the price of a zero coupon bond paying \\$1 at time $T=1$. "
   ]
  },
  {
   "cell_type": "code",
   "execution_count": 125,
   "metadata": {},
   "outputs": [],
   "source": [
    "## Define pr2 parameters\n",
    "alpha = 0.2\n",
    "sigma = 0.1\n",
    "b = 0.05\n",
    "r_0 = 0.04\n",
    "n = 1000\n",
    "N = 50\n",
    "T = 1\n",
    "dt = T/N\n",
    "\n",
    "# Constant model parameter\n",
    "nu = (4*b*alpha)/(sigma**2)"
   ]
  },
  {
   "cell_type": "code",
   "execution_count": 126,
   "metadata": {},
   "outputs": [],
   "source": [
    "# Construct the interest rate process dataframe\n",
    "r_df = pd.DataFrame(index=pd.RangeIndex(0,52), columns=pd.RangeIndex(1,1001))\n",
    "r_df.iloc[0,:] = r_0"
   ]
  },
  {
   "cell_type": "code",
   "execution_count": 127,
   "metadata": {},
   "outputs": [],
   "source": [
    "# Since d > 1, we use Case I referencing Glasserman pg. 124\n",
    "for i in range(1,len(r_df)-1):\n",
    "    \n",
    "    ## Dynamic model parameters, since t-s = dt iterating over each time step\n",
    "    const = ((1-np.exp(-alpha*dt))*(sigma**2))/(4*alpha)\n",
    "    lam = r_df.loc[i-1,:]*(np.exp(-alpha*dt)/const)\n",
    "    \n",
    "    # Generate Standard Normal, non-central Chi-squared\n",
    "    #Z = np.random.standard_normal(size=1000)\n",
    "    X = np.random.noncentral_chisquare(df=nu,nonc=lam.tolist(),size=1000)\n",
    "    #X = np.random.chisquare(df=nu,size=1000)\n",
    "    \n",
    "    #r_df.loc[i,:] = const*( (Z + np.sqrt(lam.tolist()))**2 + X )\n",
    "    r_df.loc[i,:] = const*X"
   ]
  },
  {
   "cell_type": "code",
   "execution_count": 128,
   "metadata": {},
   "outputs": [],
   "source": [
    "r_df.loc[51,:] = r_df.loc[0:50,:].sum()"
   ]
  },
  {
   "cell_type": "code",
   "execution_count": 129,
   "metadata": {},
   "outputs": [],
   "source": [
    "arg = -1.0*dt*np.array(r_df.loc[51,:])"
   ]
  },
  {
   "cell_type": "code",
   "execution_count": 130,
   "metadata": {},
   "outputs": [],
   "source": [
    "c_i = np.exp(arg.tolist())"
   ]
  },
  {
   "cell_type": "code",
   "execution_count": 131,
   "metadata": {},
   "outputs": [
    {
     "data": {
      "text/plain": [
       "0.95958254137905474"
      ]
     },
     "execution_count": 131,
     "metadata": {},
     "output_type": "execute_result"
    }
   ],
   "source": [
    "np.mean(c_i)"
   ]
  },
  {
   "cell_type": "code",
   "execution_count": 132,
   "metadata": {},
   "outputs": [
    {
     "data": {
      "text/plain": [
       "0.00032415368652886792"
      ]
     },
     "execution_count": 132,
     "metadata": {},
     "output_type": "execute_result"
    }
   ],
   "source": [
    "np.std(c_i)/np.sqrt(1000)"
   ]
  },
  {
   "cell_type": "markdown",
   "metadata": {},
   "source": [
    "The above suggests the price of the bond is \\$0.9585 with a standard error of 0.00033."
   ]
  },
  {
   "cell_type": "markdown",
   "metadata": {},
   "source": [
    "### Part (b)\n",
    "I don't understand the question."
   ]
  },
  {
   "cell_type": "markdown",
   "metadata": {},
   "source": [
    "## Question 3: *Replicating Glasserman's 'Greeks' methodology*\n",
    "\n",
    "Replicate the Delta and Vega values found in Table 1 on pg. 276 of the Glasserman and Broadie text: report the value and associated standard errors. Perform this replication using the resimulation, pathwise, and likelihood ratio methods. Use the following parameters:\n",
    "\n",
    "<ul>\n",
    "    <li>$r=0.10$</li>\n",
    "    <li>$K=100$</li>\n",
    "    <li>$\\delta = 0.03$</li>\n",
    "    <li>$\\sigma = 0.25$</li>\n",
    "    <li>$T=0.20$</li>\n",
    "    <li>$n=10000$</li>\n",
    "    <li>$h=0.0001$</li>\n",
    "</ul>\n",
    "\n",
    "Use the formulas in the Glassman text to simulate the Greeks, and $S_{T}$ as a control variable during the simulations."
   ]
  },
  {
   "cell_type": "code",
   "execution_count": 31,
   "metadata": {},
   "outputs": [],
   "source": [
    "# Define the global parameters\n",
    "r = 0.10\n",
    "K = 100\n",
    "q = 0.03\n",
    "sig = 0.25\n",
    "T = 0.20\n",
    "n = 10000\n",
    "h = 0.0001\n",
    "S_0 = 90"
   ]
  },
  {
   "cell_type": "code",
   "execution_count": 3,
   "metadata": {},
   "outputs": [],
   "source": [
    "# Generate price process df\n",
    "pp_df = pd.DataFrame(index=pd.RangeIndex(start=0,stop=2001),columns=pd.RangeIndex(start=1, stop=10001))\n",
    "pp_df.loc[0,:] = S_0"
   ]
  },
  {
   "cell_type": "code",
   "execution_count": 28,
   "metadata": {},
   "outputs": [],
   "source": [
    "for i in range(1,len(pp_df)-1):\n",
    "    Z = np.random.standard_normal(size=10000)\n",
    "    pp_df.loc[i,:] = pp_df.loc[i-1,:]*np.exp( (r-q-0.5*(sig**2))*(h) + sig*np.sqrt(h)*Z )"
   ]
  },
  {
   "cell_type": "code",
   "execution_count": 15,
   "metadata": {},
   "outputs": [],
   "source": [
    "# Generate delta df using central differences\n",
    "pp_ph_df = pp_df + h\n",
    "pp_mh_df = pp_df - h"
   ]
  },
  {
   "cell_type": "code",
   "execution_count": 32,
   "metadata": {},
   "outputs": [],
   "source": [
    "pp_df.loc[2000,:] = np.maximum(pp_df.loc[1999,:] - K, 0)"
   ]
  },
  {
   "cell_type": "code",
   "execution_count": 35,
   "metadata": {},
   "outputs": [],
   "source": [
    "indicator = pp_df.loc[2000,:]"
   ]
  },
  {
   "cell_type": "code",
   "execution_count": 58,
   "metadata": {},
   "outputs": [],
   "source": [
    "vals = (np.exp(-r*T)/sig)*(np.log(np.divide(pp_df.loc[1999,:],pp_df.loc[0,:]).tolist()) - (r-q+0.5*sig**2)*T)*indicator"
   ]
  },
  {
   "cell_type": "code",
   "execution_count": 44,
   "metadata": {},
   "outputs": [],
   "source": [
    "x = np.array([1,2,3])\n",
    "y = np.array([2,3,4])\n",
    "z = np.divide(x,y)"
   ]
  },
  {
   "cell_type": "code",
   "execution_count": 59,
   "metadata": {},
   "outputs": [
    {
     "data": {
      "text/plain": [
       "0.92371318740192621"
      ]
     },
     "execution_count": 59,
     "metadata": {},
     "output_type": "execute_result"
    }
   ],
   "source": [
    "np.mean(vals)"
   ]
  },
  {
   "cell_type": "code",
   "execution_count": 56,
   "metadata": {},
   "outputs": [],
   "source": [
    "# Closed form to check\n",
    "vega = S_0*np.sqrt(T)*scipy.stats.norm.cdf((log(S_0/K) + ((r - q + 0.5*(sig**2))*T))/(sig*sqrt(T)))"
   ]
  },
  {
   "cell_type": "code",
   "execution_count": 57,
   "metadata": {},
   "outputs": [
    {
     "data": {
      "text/plain": [
       "8.9857761495686397"
      ]
     },
     "execution_count": 57,
     "metadata": {},
     "output_type": "execute_result"
    }
   ],
   "source": [
    "vega"
   ]
  },
  {
   "cell_type": "code",
   "execution_count": null,
   "metadata": {},
   "outputs": [],
   "source": []
  }
 ],
 "metadata": {
  "kernelspec": {
   "display_name": "Python 3",
   "language": "python",
   "name": "python3"
  },
  "language_info": {
   "codemirror_mode": {
    "name": "ipython",
    "version": 3
   },
   "file_extension": ".py",
   "mimetype": "text/x-python",
   "name": "python",
   "nbconvert_exporter": "python",
   "pygments_lexer": "ipython3",
   "version": "3.6.3"
  }
 },
 "nbformat": 4,
 "nbformat_minor": 2
}
