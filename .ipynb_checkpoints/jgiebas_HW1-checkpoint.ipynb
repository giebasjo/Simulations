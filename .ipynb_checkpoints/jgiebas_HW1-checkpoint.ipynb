{
 "cells": [
  {
   "cell_type": "markdown",
   "metadata": {},
   "source": [
    "# 46-932, Simulation Methods for Option Pricing: Homework 1\n",
    "\n",
    "*Author*  : Jordan Giebas <br>\n",
    "*Due Date*: Jan. 25, 2018"
   ]
  },
  {
   "cell_type": "markdown",
   "metadata": {},
   "source": [
    "## Question 1\n",
    "Practice on the Probability Integral Transform. "
   ]
  },
  {
   "cell_type": "markdown",
   "metadata": {},
   "source": [
    "### 1a\n",
    "\n",
    "The pdf given is:\n",
    "\n",
    "\\\\[ f_X(x) =\n",
    "    \\begin{cases} \n",
    "      k\\lambda(\\lambda x)^{k-1}e^{-(\\lambda x)^{k}}& x\\geq 0 \\\\\n",
    "      0 & x < 0\n",
    "   \\end{cases}\n",
    "\\\\]\n",
    "\n",
    "Hence, we must determine the form of the cdf and then perform the Probability Integral Transform. <br>\n",
    "\n",
    "\n",
    "\\\\[ F_X(x) = P(X < x) = \\int_{-\\infty}^{x} f_X(s)ds = \\int_{0}^{x} k\\lambda(\\lambda s)^{k-1}e^{-(\\lambda s)^{k}}ds \\\\]\n",
    "\n",
    "Making the substitution $u = -(\\lambda s)^{k}$, it follows that $du = k\\lambda(\\lambda s)^{k-1}ds$. The lower limit remains zero, and the upper limit becomes $(\\lambda x)^{k}$. We then have,\n",
    "\n",
    "\\\\[ F_X(x) = \\int_{0}^{(\\lambda x)^{k}} e^{-u} du \\\\]\n",
    "\n",
    "Solving this integral, we find that the cdf of this distribution is of the form\n",
    "\n",
    "\\\\[ F_X(x) =\n",
    "    \\begin{cases} \n",
    "      1 - e^{-(\\lambda x)^{k}} & x\\geq 0 \\\\\n",
    "      0 & x < 0\n",
    "   \\end{cases}\n",
    "\\\\]\n",
    "\n",
    "Setting $u = F_X(x)$ (over the non-trivial domain) and solving for $x$ is quite easy,\n",
    "\n",
    "\\\\[ u = F_X(x) = 1 - e^{-(\\lambda x)^{k}} \\implies 1 - u = e^{-(\\lambda x)^{k}} \n",
    "                                          \\implies (\\lambda x)^{k} = ln\\big(\\frac{1}{1-u}\\big)\n",
    "                    \\implies x = \\frac{1}{\\lambda}\\big(ln\\big(\\frac{1}{1-u}\\big)\\big)^{\\frac{1}{k}} := g(u)\\\\]\n",
    "                               \n",
    "It follows that simulating random variables with $f_X(x)$ as the pdf is equivalent to applying the above function, $g(u)$, to simulated standard uniform random variables."
   ]
  },
  {
   "cell_type": "markdown",
   "metadata": {},
   "source": [
    "### 1c\n",
    "\n",
    "The pdf given is:\n",
    "\n",
    "\\\\[ f_X(x) = \\frac{1}{\\pi}\\frac{1}{1+x^2}\\\\]\n",
    "\n",
    "Hence, we must determine the form of the cdf and then perform the Probability Integral Transform. <br>\n",
    "\n",
    "\n",
    "\\\\[ F_X(x) = P(X < x) = \\int_{-\\infty}^{x} f_X(s)ds = \n",
    "\\int_{-\\infty}^{x} \\frac{1}{\\pi}\\frac{1}{1+s^2} ds \\\\]\n",
    "\n",
    "The substitution to be made is $s = tan(\\theta)$, equipped with $ds = sec^2(\\theta)d\\theta$, this becomes quite an easy integral. I happened to recall this by observation from CalcII?, so I state the result for the indefinite integral. \n",
    "\n",
    "\\\\[ \\int \\frac{1}{1+x^2} dx = arctan(x) \\\\]\n",
    "\n",
    "Now we just analyze the boundaries- we have an improper integral as the lower bound is $-\\infty$, therefore we take a limit\n",
    "\n",
    "\\\\[ F_X(x) = \\int_{-\\infty}^{x} \\frac{1}{\\pi}\\frac{1}{1+s^2} ds \n",
    "           = \\frac{1}{\\pi}(arctan(x) - \\lim_{b\\to-\\infty} arctan(b))\\\\]\n",
    "\n",
    "Examining the graph of $f(x) = arctan(x)$, it's clear that $\\lim_{x\\to-\\infty} arctan(x) = -\\frac{\\pi}{2}$. Hence, we (finally) have the final form of the cdf.\n",
    "\n",
    "\\\\[ F_X(x) = \\frac{1}{\\pi}arctan(x) + \\frac{1}{2}, x \\in \\mathbb{R} \\\\]\n",
    "\n",
    "Setting $u = F_X(x)$ and solving for $x$,\n",
    "\n",
    "\\\\[ u = F_X(x) = \\frac{1}{\\pi}(arctan(x) + \\frac{1}{2}) \\implies 2\\pi u = 2arctan(x) + \\pi \n",
    "                                           \\implies \\frac{2\\pi u - \\pi}{2} = arctan(x)\n",
    "                                           \\implies x = tan\\big(\\frac{\\pi}{2}(2u-1)\\big) := g(u) \\\\]\n",
    "\n",
    "                               \n",
    "It follows that simulating random variables with a *cauchy distribution* is equivalent to applying the above function, $g(u)$, to simulated standard uniform random variables.\n",
    "\n"
   ]
  },
  {
   "cell_type": "markdown",
   "metadata": {},
   "source": [
    "## Question 2"
   ]
  },
  {
   "cell_type": "markdown",
   "metadata": {},
   "source": [
    "## Question 3\n",
    "Studying the quality of various normal generation methods. <br>\n",
    "\n",
    "Simulate three sets of observations (n=100,1000,10,000) to have the standard normal distribution using methods (a) and (b). Construct a Q-Q (normal) plot for each, comment on the quality of the methods based on your normal plots. "
   ]
  },
  {
   "cell_type": "markdown",
   "metadata": {},
   "source": [
    "### 3a\n",
    "Use the normal generator within the language we plan to use for the course."
   ]
  },
  {
   "cell_type": "code",
   "execution_count": 2,
   "metadata": {},
   "outputs": [],
   "source": [
    "# Use numpy's normal RV generator\n",
    "import numpy as np\n",
    "import pylab \n",
    "import scipy.stats as stats\n",
    "import matplotlib\n",
    "\n",
    "def get_plt(data):\n",
    "    \n",
    "    stats.probplot(data, dist=\"norm\", plot=pylab)\n",
    "    pylab\n",
    "\n",
    "# Sample the normal distribution\n",
    "norm_rv = [np.random.normal(size=n) for n in [100, 1000, 10000]]\n",
    "\n",
    "get_plt(norm_rv[0])"
   ]
  },
  {
   "cell_type": "code",
   "execution_count": 3,
   "metadata": {},
   "outputs": [
    {
     "data": {
      "image/png": "[encoded data removed]",
      "text/plain": [
       "<matplotlib.figure.Figure at 0x10d660fd0>"
      ]
     },
     "metadata": {},
     "output_type": "display_data"
    }
   ],
   "source": [
    "get_plt(norm_rv[1])"
   ]
  },
  {
   "cell_type": "code",
   "execution_count": 4,
   "metadata": {},
   "outputs": [
    {
     "data": {
      "image/png": "[encoded data removed]",
      "text/plain": [
       "<matplotlib.figure.Figure at 0x111f059e8>"
      ]
     },
     "metadata": {},
     "output_type": "display_data"
    }
   ],
   "source": [
    "get_plt(norm_rv[2])"
   ]
  },
  {
   "cell_type": "markdown",
   "metadata": {},
   "source": [
    "It appears that as $n$ gets larger, the data is fit nearly perfectly around the trendline suggesting that the normal generator within python is quite accurate."
   ]
  },
  {
   "cell_type": "markdown",
   "metadata": {},
   "source": [
    "### 3b\n",
    "Use the \"poor man's\" normal generator: simulate 12 standard uniform vars $\\{U_{i}\\}_{i=1}^{12}$, and compute $\\sum_{i=1}^{12} U_{i}-6$"
   ]
  },
  {
   "cell_type": "code",
   "execution_count": 5,
   "metadata": {},
   "outputs": [],
   "source": [
    "# Generate 12 independent standard uniform rvs\n",
    "\n",
    "def gen_pm_norm_rv():\n",
    "    u_rv = np.random.uniform(size=12)\n",
    "    return ( np.sum(u_rv) - 6.0 )\n",
    "\n",
    "\n",
    "l_100 = list()\n",
    "for i in range(100):\n",
    "    l_100.append(gen_pm_norm_rv())\n",
    "    \n",
    "pm_norm_rv = [[gen_pm_norm_rv() for i in range(n)] for n in [100,1000,1000]]"
   ]
  },
  {
   "cell_type": "code",
   "execution_count": 6,
   "metadata": {},
   "outputs": [
    {
     "data": {
      "image/png": "[encoded data removed]",
      "text/plain": [
       "<matplotlib.figure.Figure at 0x111ecc438>"
      ]
     },
     "metadata": {},
     "output_type": "display_data"
    }
   ],
   "source": [
    "get_plt(pm_norm_rv[0])"
   ]
  },
  {
   "cell_type": "code",
   "execution_count": 7,
   "metadata": {},
   "outputs": [
    {
     "data": {
      "image/png": "[encoded data removed]",
      "text/plain": [
       "<matplotlib.figure.Figure at 0x1121b3390>"
      ]
     },
     "metadata": {},
     "output_type": "display_data"
    }
   ],
   "source": [
    "get_plt(pm_norm_rv[1])"
   ]
  },
  {
   "cell_type": "code",
   "execution_count": 8,
   "metadata": {},
   "outputs": [
    {
     "data": {
      "image/png": "[encoded data removed]",
      "text/plain": [
       "<matplotlib.figure.Figure at 0x111ecc5c0>"
      ]
     },
     "metadata": {},
     "output_type": "display_data"
    }
   ],
   "source": [
    "get_plt(pm_norm_rv[2])"
   ]
  },
  {
   "cell_type": "markdown",
   "metadata": {},
   "source": [
    "Using the \"poor man's normal generator\" yields quite good results actually. However, they are certainly not as precise as using Python's normal random number generator. One can see this by simply comparing the $n=10,000$ plots. There is more variability at the extreme ends of the \"poor man's\" plot than in the plot constructed with Python's generator. "
   ]
  },
  {
   "cell_type": "markdown",
   "metadata": {},
   "source": [
    "# Question 2 below, will put above later"
   ]
  },
  {
   "cell_type": "code",
   "execution_count": 9,
   "metadata": {},
   "outputs": [],
   "source": [
    "import pandas as pd\n",
    "import numpy as np\n",
    "\n",
    "\n",
    "########################################################\n",
    "\"\"\"\n",
    "Alias Table Construction\n",
    "    From the matrix provided, build an alias table \n",
    "    (type pd.DataFrame()) for each row. Once this is done, \n",
    "    then stack the alias tables on top of one another\n",
    "\"\"\"\n",
    "########################################################\n",
    "\n",
    "# We need to build a dataframe from the matrices given\n",
    "# to pass into build_dataframe. This way we can reuse that \n",
    "# function in constructing the alias table. (i=1 rn)\n",
    "def df_from_matrix( mat_df, i ):\n",
    "    \n",
    "    f_row = mat_df.loc[i]\n",
    "    j_s = pd.Series(np.arange(1,9), index=pd.RangeIndex(start=1, stop=9))\n",
    "    df = pd.DataFrame()\n",
    "    df[0] = j_s\n",
    "    df[1] = f_row\n",
    "    df.index = pd.RangeIndex(start=0, stop=8)\n",
    "    \n",
    "    return df\n",
    "\n",
    "# input : File path string\n",
    "# output: Dataframe containing the discrete probability distribution\n",
    "def build_dataframe( df ):\n",
    "    \n",
    "    #df = pd.read_csv(file_path, header=None)             # Read csv, label the columns\n",
    "    \n",
    "    df.columns = ['x','p']\n",
    "    df = df.sort_values(by=['p'])                        # Sort by probability in Ascending order\n",
    "    df['p_star'] = df['p']*(len(df.index) - 1)           # p*_i = (m-1)*p_i\n",
    "    df.index = range(0,len(df.index))                    # Reindex afterwards\n",
    "    \n",
    "    return df\n",
    "\n",
    "\n",
    "# input : Dataframe containing the discrete probability distribution\n",
    "# output: Alias table for discrete distribution (constant time evaluation for simulation)\n",
    "def build_alias_table( pmf_df ):\n",
    "    \n",
    "    # Build alias table\n",
    "    alias_table = pd.DataFrame(columns=list('PXA'))\n",
    "\n",
    "    while(len(pmf_df.index) != 1):\n",
    "\n",
    "        # Update the Alias Table\n",
    "        tmp = pd.DataFrame([[pmf_df.p_star[0], pmf_df.x[0], pmf_df.x[len(pmf_df.index)-1]]], columns=list('PXA'))\n",
    "        alias_table = alias_table.append(tmp, ignore_index=True)\n",
    "\n",
    "        # Alter the dataframe\n",
    "        pmf_df.p_star[len(pmf_df.index)-1] -= (1-pmf_df.p_star[0]) # Subtaract (1-p*_1) from p*_max\n",
    "        pmf_df = pmf_df.drop([0])                                  # Drop the (x1,p*_1) row\n",
    "        pmf_df = pmf_df.sort_values(by=['p_star'])                 # Sort values as needed\n",
    "        pmf_df.index = range(0,len(pmf_df.index))                  # Reindex the dataframe to begin at 0\n",
    "        \n",
    "    return alias_table\n",
    "\n",
    "    \n",
    "## Get the stacked alias table\n",
    "def stacked_alias_table( mat ):\n",
    "    \n",
    "    #return pd.concat([build_alias_table( build_dataframe( df_from_matrix(P, i) ) ) \n",
    "                         #for i in range(1, len(mat)+1)]) \n",
    "    a_t = [build_alias_table( build_dataframe( df_from_matrix(P, i) ) ) for i in range(1, len(mat)+1)]\n",
    "    \n",
    "    return a_t, pd.concat(a_t)\n",
    "\n",
    "########################################################\n",
    "\"\"\"\n",
    "Functions for HW1, Q2 (a) and (b)\n",
    "\n",
    "1) 'exp_rv': used to generate the holding\n",
    "   time of a given state, given the parameter sitting in \n",
    "   the appropritate row of the params DataFrame().\n",
    "2) 'alias_algo': used to generate a possible state to \n",
    "   transition to from the finite distribution provided\n",
    "   within the Q-matrix. (I think it should be P??)\n",
    "\"\"\"\n",
    "########################################################\n",
    "\n",
    "\n",
    "\"\"\"\n",
    "Function:\n",
    "generate exponentially distributed random numbers\n",
    "using the probability integral transform\n",
    "\"\"\"\n",
    "def exp_rv( lambda_i ):\n",
    "    \n",
    "    return ( (-1.0/lambda_i)*np.log(1-np.random.uniform()) )\n",
    "\n",
    "\n",
    "## Aliasing algorithm\n",
    "def alias_algo( a_table ):\n",
    "    \n",
    "    u = np.random.uniform() # Generate a Uniform(0,1) RV\n",
    "    v = len(a_table)*u\n",
    "    i = np.ceil(v)\n",
    "    w = i - v\n",
    "    \n",
    "    if w <= a_table.P.loc[i-1]:\n",
    "        return a_table.X.loc[i-1]\n",
    "    else:\n",
    "        return a_table.A.loc[i-1]\n",
    "    \n",
    "\n",
    "\"\"\"\n",
    "Construct the:\n",
    "    Q-matrix\n",
    "    M-matrix\n",
    "    lambda-vector (params)\n",
    "\"\"\"\n",
    "\n",
    "\n",
    "Q = pd.DataFrame(np.array(\n",
    "  [[-.1154, .1019, .0083, .0020, .0031, 0, 0, 0],    \n",
    "  [.0091, -.1043, .0787, .0105, .0030, .0030, 0, 0],   \n",
    "  [.0010, .0309, -.1172, .0688, .0107, .0048, 0, .0010],    \n",
    "  [.0007, .0047, .0713, -.1711, .0701, .0174, .0020, .0049],    \n",
    "  [.0005, .0025, .0089, .0813, -.2530, .1181, .0144, .0273],\n",
    "  [0, .0021, .0034, .0073, .0568, -.1928, .0479, .0753],\n",
    "  [0,0,.0142, .0142, .0250, .0928, -.4318, .2856],\n",
    "  [0, 0, 0, 0, 0, 0, 0, 0]]), \n",
    "                 index=pd.RangeIndex(start=1, stop=9, step=1),\n",
    "                 columns=pd.RangeIndex(start=1, stop=9, step=1))\n",
    "\n",
    "\n",
    "P = pd.DataFrame(np.array(\n",
    "    [[0,.8838, .0720, .0173, .0269, 0, 0, 0],\n",
    "    [.0872, 0, .7545, .1007, .0288, .0288, 0,0],\n",
    "    [.0085, .2637, 0, .5870, .0913, .0410, 0, .0085],\n",
    "    [.0041, .0275, .4167, 0, .4097, .1017, .0117, .0286],\n",
    "    [.0020, .0099, .0352, .3213, 0, .4668, .0569, .1079],\n",
    "    [0, .0109, .0176, .0379, .2946, 0, .2484, .3906],\n",
    "    [0, 0, .0329, .0329, .0579, .2149, 0, .6614],\n",
    "    [0,0,0,0,0,0,0,1]]), \n",
    "                 index=pd.RangeIndex(start=1, stop=9, step=1),\n",
    "                 columns=pd.RangeIndex(start=1, stop=9, step=1))\n",
    "\n",
    "\n",
    "params = pd.DataFrame(np.array([.1154, .1043, .1172, .1711, .2530, .1929, .4318, .0001]),\n",
    "                   index=pd.RangeIndex(start=1, stop=9, step=1),\n",
    "                   columns=[1])\n"
   ]
  },
  {
   "cell_type": "code",
   "execution_count": 10,
   "metadata": {},
   "outputs": [
    {
     "name": "stderr",
     "output_type": "stream",
     "text": [
      "/usr/local/lib/python3.6/site-packages/ipykernel_launcher.py:56: SettingWithCopyWarning: \n",
      "A value is trying to be set on a copy of a slice from a DataFrame\n",
      "\n",
      "See the caveats in the documentation: http://pandas.pydata.org/pandas-docs/stable/indexing.html#indexing-view-versus-copy\n"
     ]
    }
   ],
   "source": [
    "sat_l, sat = stacked_alias_table(Q)"
   ]
  },
  {
   "cell_type": "code",
   "execution_count": 47,
   "metadata": {},
   "outputs": [],
   "source": [
    "## Not needed just extra:\n",
    "ratings = {1: 'AAA', 2: 'AA', 3: 'A', 4: 'BBB', 5: 'BB', 6: 'B', 7: 'CCC', 8: 'D'}\n",
    "\n",
    "# Now that the stacked alias table is constructed, we perform the actual problem.\n",
    "T = 5\n",
    "\n",
    "test_dict = {}\n",
    "for z in range(1,9):\n",
    "    \n",
    "    test_dict[z] = list()\n",
    "    for k in range(1000):\n",
    "\n",
    "        i = z\n",
    "        clock = 0\n",
    "\n",
    "        while( clock <= T ):\n",
    "\n",
    "            # Generate the holding time\n",
    "            ht = exp_rv(float(params.loc[i]))\n",
    "\n",
    "            # Update the clock\n",
    "            clock += ht\n",
    "\n",
    "            # Check to see if you're past 'maturity'\n",
    "            # If so break out of the loop\n",
    "            if (clock > T):\n",
    "\n",
    "                #print(\"The rating (state) is \", ratings[i])\n",
    "                test_dict[z].append(i)\n",
    "                break\n",
    "\n",
    "            else:\n",
    "\n",
    "                # Choose a new rating (alias algorithm)\n",
    "                j = alias_algo(sat_l[i-1]) \n",
    "                #print(\"%i transitioned to %i\" % (i_start, j))\n",
    "                i = j \n",
    "                        \n",
    "            \n",
    "## NEED TO RUN THE SIMULATIONS, and DERIVE THE P_{i,j} table"
   ]
  },
  {
   "cell_type": "code",
   "execution_count": 48,
   "metadata": {},
   "outputs": [],
   "source": [
    "def build_transprob_df( tp_dict ):\n",
    "    \n",
    "    for k in tp_dict.keys():\n",
    "        \n",
    "        i_list = [(tp_dict[k].count(i))/(float(len(tp_dict[k]))) for i in range(1,9)]\n",
    "        tp_dict[k] = i_list\n",
    "    \n",
    "    return pd.DataFrame.from_dict(tp_dict, orient='index')"
   ]
  },
  {
   "cell_type": "code",
   "execution_count": 49,
   "metadata": {},
   "outputs": [],
   "source": [
    "tp_df = build_transprob_df(test_dict)"
   ]
  },
  {
   "cell_type": "code",
   "execution_count": 51,
   "metadata": {},
   "outputs": [],
   "source": [
    "tp_df.columns = pd.RangeIndex(start=1,stop=9)"
   ]
  },
  {
   "cell_type": "code",
   "execution_count": 52,
   "metadata": {},
   "outputs": [
    {
     "data": {
      "text/html": [
       "<div>\n",
       "<style>\n",
       "    .dataframe thead tr:only-child th {\n",
       "        text-align: right;\n",
       "    }\n",
       "\n",
       "    .dataframe thead th {\n",
       "        text-align: left;\n",
       "    }\n",
       "\n",
       "    .dataframe tbody tr th {\n",
       "        vertical-align: top;\n",
       "    }\n",
       "</style>\n",
       "<table border=\"1\" class=\"dataframe\">\n",
       "  <thead>\n",
       "    <tr style=\"text-align: right;\">\n",
       "      <th></th>\n",
       "      <th>1</th>\n",
       "      <th>2</th>\n",
       "      <th>3</th>\n",
       "      <th>4</th>\n",
       "      <th>5</th>\n",
       "      <th>6</th>\n",
       "      <th>7</th>\n",
       "      <th>8</th>\n",
       "    </tr>\n",
       "  </thead>\n",
       "  <tbody>\n",
       "    <tr>\n",
       "      <th>1</th>\n",
       "      <td>0.571</td>\n",
       "      <td>0.300</td>\n",
       "      <td>0.095</td>\n",
       "      <td>0.017</td>\n",
       "      <td>0.006</td>\n",
       "      <td>0.008</td>\n",
       "      <td>0.000</td>\n",
       "      <td>0.003</td>\n",
       "    </tr>\n",
       "    <tr>\n",
       "      <th>2</th>\n",
       "      <td>0.033</td>\n",
       "      <td>0.619</td>\n",
       "      <td>0.236</td>\n",
       "      <td>0.061</td>\n",
       "      <td>0.023</td>\n",
       "      <td>0.023</td>\n",
       "      <td>0.001</td>\n",
       "      <td>0.004</td>\n",
       "    </tr>\n",
       "    <tr>\n",
       "      <th>3</th>\n",
       "      <td>0.014</td>\n",
       "      <td>0.108</td>\n",
       "      <td>0.590</td>\n",
       "      <td>0.176</td>\n",
       "      <td>0.053</td>\n",
       "      <td>0.028</td>\n",
       "      <td>0.001</td>\n",
       "      <td>0.030</td>\n",
       "    </tr>\n",
       "    <tr>\n",
       "      <th>4</th>\n",
       "      <td>0.001</td>\n",
       "      <td>0.041</td>\n",
       "      <td>0.176</td>\n",
       "      <td>0.478</td>\n",
       "      <td>0.129</td>\n",
       "      <td>0.099</td>\n",
       "      <td>0.013</td>\n",
       "      <td>0.063</td>\n",
       "    </tr>\n",
       "    <tr>\n",
       "      <th>5</th>\n",
       "      <td>0.001</td>\n",
       "      <td>0.012</td>\n",
       "      <td>0.060</td>\n",
       "      <td>0.162</td>\n",
       "      <td>0.341</td>\n",
       "      <td>0.207</td>\n",
       "      <td>0.039</td>\n",
       "      <td>0.178</td>\n",
       "    </tr>\n",
       "    <tr>\n",
       "      <th>6</th>\n",
       "      <td>0.000</td>\n",
       "      <td>0.005</td>\n",
       "      <td>0.024</td>\n",
       "      <td>0.043</td>\n",
       "      <td>0.107</td>\n",
       "      <td>0.435</td>\n",
       "      <td>0.076</td>\n",
       "      <td>0.310</td>\n",
       "    </tr>\n",
       "    <tr>\n",
       "      <th>7</th>\n",
       "      <td>0.001</td>\n",
       "      <td>0.003</td>\n",
       "      <td>0.034</td>\n",
       "      <td>0.029</td>\n",
       "      <td>0.056</td>\n",
       "      <td>0.123</td>\n",
       "      <td>0.110</td>\n",
       "      <td>0.644</td>\n",
       "    </tr>\n",
       "    <tr>\n",
       "      <th>8</th>\n",
       "      <td>0.000</td>\n",
       "      <td>0.000</td>\n",
       "      <td>0.000</td>\n",
       "      <td>0.000</td>\n",
       "      <td>0.000</td>\n",
       "      <td>0.000</td>\n",
       "      <td>0.000</td>\n",
       "      <td>1.000</td>\n",
       "    </tr>\n",
       "  </tbody>\n",
       "</table>\n",
       "</div>"
      ],
      "text/plain": [
       "       1      2      3      4      5      6      7      8\n",
       "1  0.571  0.300  0.095  0.017  0.006  0.008  0.000  0.003\n",
       "2  0.033  0.619  0.236  0.061  0.023  0.023  0.001  0.004\n",
       "3  0.014  0.108  0.590  0.176  0.053  0.028  0.001  0.030\n",
       "4  0.001  0.041  0.176  0.478  0.129  0.099  0.013  0.063\n",
       "5  0.001  0.012  0.060  0.162  0.341  0.207  0.039  0.178\n",
       "6  0.000  0.005  0.024  0.043  0.107  0.435  0.076  0.310\n",
       "7  0.001  0.003  0.034  0.029  0.056  0.123  0.110  0.644\n",
       "8  0.000  0.000  0.000  0.000  0.000  0.000  0.000  1.000"
      ]
     },
     "execution_count": 52,
     "metadata": {},
     "output_type": "execute_result"
    }
   ],
   "source": [
    "tp_df"
   ]
  },
  {
   "cell_type": "code",
   "execution_count": null,
   "metadata": {},
   "outputs": [],
   "source": []
  }
 ],
 "metadata": {
  "kernelspec": {
   "display_name": "Python 3",
   "language": "python",
   "name": "python3"
  },
  "language_info": {
   "codemirror_mode": {
    "name": "ipython",
    "version": 3
   },
   "file_extension": ".py",
   "mimetype": "text/x-python",
   "name": "python",
   "nbconvert_exporter": "python",
   "pygments_lexer": "ipython3",
   "version": "3.6.3"
  }
 },
 "nbformat": 4,
 "nbformat_minor": 2
}
