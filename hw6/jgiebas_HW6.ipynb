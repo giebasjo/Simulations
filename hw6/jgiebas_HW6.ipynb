{
 "cells": [
  {
   "cell_type": "markdown",
   "metadata": {},
   "source": [
    "# 46-932, Simulation Methods for Option Pricing: Homework 6\n",
    "\n",
    "*Author*: Jordan Giebas <br>\n",
    "*Due Date*: March 1st, 2018"
   ]
  },
  {
   "cell_type": "markdown",
   "metadata": {},
   "source": [
    "## Question 1: *Practice on the Longstaff and Schwartz method*\n",
    "\n",
    "Replicate the entries in the first two rows of Table 1, pg.127 of the Longstaff and Schwartz method."
   ]
  },
  {
   "cell_type": "code",
   "execution_count": 403,
   "metadata": {},
   "outputs": [],
   "source": [
    "# Load modules\n",
    "import pandas as pd\n",
    "import numpy as np\n",
    "import numpy.random as npr\n",
    "from numpy import log, sqrt, exp, maximum\n",
    "from numpy.polynomial.laguerre import lagfit"
   ]
  },
  {
   "cell_type": "code",
   "execution_count": 404,
   "metadata": {},
   "outputs": [],
   "source": [
    "# Define Laugerre Polynomials: Python Sucks\n",
    "def L0(x):\n",
    "    \n",
    "    return np.exp(-0.5*x)\n",
    "\n",
    "def L1(x):\n",
    "    omx = 1.0-x\n",
    "    return np.exp(-0.5*x)*omx\n",
    "\n",
    "def L2(x):\n",
    "    qfx = (1-2.0*x+x**2/2.0)\n",
    "    return np.exp(-0.5*x)*qfx\n",
    "\n",
    "L0 = np.vectorize(L0)\n",
    "L1 = np.vectorize(L1)\n",
    "L2 = np.vectorize(L2)"
   ]
  },
  {
   "cell_type": "code",
   "execution_count": 405,
   "metadata": {},
   "outputs": [],
   "source": [
    "###### Case I: S_0, sig, T = (40,0.20,1) ######\n",
    "\n",
    "# Define Parameters\n",
    "S_0 = 40.0\n",
    "sig = 0.20\n",
    "T = 1\n",
    "K = 40\n",
    "N = 50\n",
    "dt = T/N\n",
    "r = 0.06\n",
    "no_paths = 50000 # We'll do 100,000: 50,000 normal, 50,000 antithetic\n",
    "\n",
    "# Initialize Stock Price dataframe\n",
    "stock_df = pd.DataFrame(index=pd.RangeIndex(0,51), columns=pd.RangeIndex(1,no_paths+1))\n",
    "stock_df.loc[0,:] = S_0\n",
    "\n",
    "# Populate Stock Price dataframe\n",
    "for i in range(1,N+1):\n",
    "    stock_df.loc[i,:] = stock_df.loc[i-1,:]*exp((r-0.5*sig**2)*dt + sig*sqrt(dt)*npr.standard_normal(size=no_paths))\n",
    "\n",
    "# Make it like the notes\n",
    "stock_df = stock_df.T\n",
    "\n",
    "# Initialize Cash Flow DataFrame\n",
    "cf_df = pd.DataFrame(index=pd.RangeIndex(1,no_paths+1), columns=pd.RangeIndex(1,51))\n",
    "cf_df[50] = maximum(K - stock_df[50],0)"
   ]
  },
  {
   "cell_type": "code",
   "execution_count": 406,
   "metadata": {},
   "outputs": [],
   "source": [
    "# Recursively populate the cashflow matrix\n",
    "for i in range(49,0,-1):\n",
    "\n",
    "    # Get ITM paths of stock price - boolean \n",
    "    ITM_paths = np.array(stock_df.index[K - stock_df[i] > 0])\n",
    "    OTM_paths = np.setdiff1d(np.array(stock_df.index),ITM_paths)\n",
    "\n",
    "    # Only for the ITM paths, get the X (stock[i]), \n",
    "    # Y (discounted payoff stock[i+1]) for regression of Laguerre Polynomials\n",
    "    X = np.array(stock_df.loc[ITM_paths,i])\n",
    "    Y = (exp(-r*dt)*np.array(cf_df.loc[ITM_paths,i+1]))\n",
    "\n",
    "    # Do the regression fit manually\n",
    "    unit = np.ones(len(X))\n",
    "    L0x  = L0(X)\n",
    "    L1x  = L1(X)\n",
    "    L2x  = L2(X)\n",
    "\n",
    "    # Define matrix/do linear regression\n",
    "    X_mat = np.matrix([unit, L0x, L1x, L2x]).T\n",
    "\n",
    "    # OLS Beta-hat vector\n",
    "    beta = np.dot(np.dot(np.linalg.inv(np.dot(X_mat.T, X_mat)),X_mat.T),Y)\n",
    "\n",
    "    # Retrieve continuation/immediate exercise vectors\n",
    "    continuation = np.array(np.dot(X_mat, beta.T)).reshape(X_mat.shape[0],)\n",
    "    immediate_exercise = maximum(K - stock_df.loc[ITM_paths,i], 0)\n",
    "\n",
    "    # Determine to continue or exercise immediately\n",
    "    cond = continuation > immediate_exercise\n",
    "    continu_ = cond[cond==True]\n",
    "    exercise = cond[cond==False]\n",
    "\n",
    "    # Put the immediate exercise values in\n",
    "    # change future cashflows for this location to zero\n",
    "    vals = immediate_exercise[exercise.index]\n",
    "    cf_df.loc[vals.index,i]    = vals\n",
    "    cf_df.loc[vals.index,i+1:] = 0.0\n",
    "\n",
    "    # Store zeros where we are to continue\n",
    "    cf_df.loc[continu_.index,i] = 0.0\n",
    "\n",
    "    # For all OTM paths, store zero\n",
    "    cf_df.loc[pd.Index(OTM_paths),i] = 0.0"
   ]
  },
  {
   "cell_type": "code",
   "execution_count": 407,
   "metadata": {},
   "outputs": [],
   "source": [
    "discounted_cashflows = list()\n",
    "for ix in cf_df.index:\n",
    "    nz_loc = cf_df.loc[1,:].nonzero()[0][0] + 1\n",
    "    discounted_cashflows.append(exp(-r*nz_loc*dt)*cf_df.loc[1,nz_loc])"
   ]
  },
  {
   "cell_type": "code",
   "execution_count": 409,
   "metadata": {},
   "outputs": [
    {
     "data": {
      "text/plain": [
       "0.87866535510687493"
      ]
     },
     "execution_count": 409,
     "metadata": {},
     "output_type": "execute_result"
    }
   ],
   "source": [
    "np.mean(discounted_cashflows)"
   ]
  },
  {
   "cell_type": "code",
   "execution_count": 277,
   "metadata": {},
   "outputs": [
    {
     "data": {
      "text/plain": [
       "6.6613381477509392e-16"
      ]
     },
     "execution_count": 277,
     "metadata": {},
     "output_type": "execute_result"
    }
   ],
   "source": [
    "np.std(discounted_cashflows)"
   ]
  },
  {
   "cell_type": "markdown",
   "metadata": {},
   "source": [
    "## Question 2: *Practice on GHS and Capriotti Importance Sampling*\n",
    "\n",
    "### Part (a):\n",
    "We were excused from\n",
    "\n",
    "### Part (b):\n",
    "Replicate the specifications of part (a), but use the Capriotti non-linear least squares method. Replicate the values given in columns 1, 4, and 5 of the top table on page 72 of the Course Notes. The values of $\\hat{m}$ may be different."
   ]
  },
  {
   "cell_type": "code",
   "execution_count": 434,
   "metadata": {},
   "outputs": [],
   "source": [
    "# Define Parameters\n",
    "S_0 = 100\n",
    "K_list = [120,140,160]\n",
    "r = 0.05\n",
    "sig = 0.20\n",
    "T = 1\n",
    "no_paths = 10000\n",
    "M = 10000 # n=10000, hence one order of magnitude less is M\n",
    "m=1"
   ]
  },
  {
   "cell_type": "code",
   "execution_count": 430,
   "metadata": {},
   "outputs": [],
   "source": [
    "# Initialize Stock Price dataframe\n",
    "stock_df = pd.DataFrame(index=pd.RangeIndex(0,1), columns=pd.RangeIndex(1,no_paths+1))\n",
    "stock_df.loc[0,:] = S_0\n",
    "stock_df.loc[1,:] = stock_df.loc[0,:]*exp((r-0.5*sig**2)*T + sig*sqrt(T)*npr.standard_normal(size=no_paths))"
   ]
  },
  {
   "cell_type": "code",
   "execution_count": 439,
   "metadata": {},
   "outputs": [
    {
     "name": "stderr",
     "output_type": "stream",
     "text": [
      "/usr/local/lib/python3.6/site-packages/scipy/optimize/minpack.py:427: RuntimeWarning: Number of calls to function has reached maxfev = 400.\n",
      "  warnings.warn(errors[info][0], RuntimeWarning)\n"
     ]
    }
   ],
   "source": [
    "from scipy.optimize import fsolve, leastsq\n",
    "\n",
    "# Step 1: Must be vectorized\n",
    "def bslink( X ):\n",
    "    return exp(-r*T)*maximum(S_0*exp((r-0.5*sig**2)*T + sig*sqrt(T)*X),0)*sqrt(exp(-m*X+0.5*m**2))\n",
    "\n",
    "bslink = np.vectorize(bslink)\n",
    "\n",
    "# Step 2\n",
    "ind = npr.standard_normal(size=M)\n",
    "\n",
    "# Step 3\n",
    "zeros = np.zeros(M)\n",
    "\n",
    "# Step 4\n",
    "m_init = 1\n",
    "\n",
    "# Get the optimum\n",
    "m_hat = leastsq(bslink, m_init)"
   ]
  },
  {
   "cell_type": "markdown",
   "metadata": {},
   "source": [
    "Should be quite easy, if I choose to do it in MATLAB."
   ]
  },
  {
   "cell_type": "code",
   "execution_count": null,
   "metadata": {},
   "outputs": [],
   "source": []
  },
  {
   "cell_type": "code",
   "execution_count": null,
   "metadata": {},
   "outputs": [],
   "source": []
  },
  {
   "cell_type": "code",
   "execution_count": null,
   "metadata": {},
   "outputs": [],
   "source": []
  },
  {
   "cell_type": "code",
   "execution_count": null,
   "metadata": {},
   "outputs": [],
   "source": []
  },
  {
   "cell_type": "code",
   "execution_count": null,
   "metadata": {},
   "outputs": [],
   "source": []
  }
 ],
 "metadata": {
  "kernelspec": {
   "display_name": "Python 3",
   "language": "python",
   "name": "python3"
  },
  "language_info": {
   "codemirror_mode": {
    "name": "ipython",
    "version": 3
   },
   "file_extension": ".py",
   "mimetype": "text/x-python",
   "name": "python",
   "nbconvert_exporter": "python",
   "pygments_lexer": "ipython3",
   "version": "3.6.3"
  }
 },
 "nbformat": 4,
 "nbformat_minor": 2
}
