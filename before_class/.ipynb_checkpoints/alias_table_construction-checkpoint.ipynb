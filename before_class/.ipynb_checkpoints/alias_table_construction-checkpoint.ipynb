{
 "cells": [
  {
   "cell_type": "markdown",
   "metadata": {},
   "source": [
    "## Description\n",
    "\n",
    "After running `make_csv.ipynb` to create the `alias_table.csv`, this notebook will parse the `alias_table.csv` file to create the alias table discussed in **Simulations for Option Pricing**. The first cells write/test the algorithm for constructing the alias table, the next cells abstract this into various functions to build the pmf_df and build the alias_table. The final cells perform the final abstraction by wrapping everything into a class. To obtain an alias table for a probability mass function, simply pass the file into the `Alias_Table` constructor and call the `.alias_table` method."
   ]
  },
  {
   "cell_type": "code",
   "execution_count": 406,
   "metadata": {},
   "outputs": [],
   "source": [
    "import pandas as pd\n",
    "\n",
    "df = pd.read_csv('./alias_table2.csv', header=None)\n",
    "df.columns = ['x','p']"
   ]
  },
  {
   "cell_type": "code",
   "execution_count": 407,
   "metadata": {},
   "outputs": [
    {
     "data": {
      "text/html": [
       "<div>\n",
       "<style>\n",
       "    .dataframe thead tr:only-child th {\n",
       "        text-align: right;\n",
       "    }\n",
       "\n",
       "    .dataframe thead th {\n",
       "        text-align: left;\n",
       "    }\n",
       "\n",
       "    .dataframe tbody tr th {\n",
       "        vertical-align: top;\n",
       "    }\n",
       "</style>\n",
       "<table border=\"1\" class=\"dataframe\">\n",
       "  <thead>\n",
       "    <tr style=\"text-align: right;\">\n",
       "      <th></th>\n",
       "      <th>x</th>\n",
       "      <th>p</th>\n",
       "    </tr>\n",
       "  </thead>\n",
       "  <tbody>\n",
       "    <tr>\n",
       "      <th>0</th>\n",
       "      <td>1</td>\n",
       "      <td>0.40</td>\n",
       "    </tr>\n",
       "    <tr>\n",
       "      <th>1</th>\n",
       "      <td>2</td>\n",
       "      <td>0.25</td>\n",
       "    </tr>\n",
       "    <tr>\n",
       "      <th>2</th>\n",
       "      <td>3</td>\n",
       "      <td>0.35</td>\n",
       "    </tr>\n",
       "  </tbody>\n",
       "</table>\n",
       "</div>"
      ],
      "text/plain": [
       "   x     p\n",
       "0  1  0.40\n",
       "1  2  0.25\n",
       "2  3  0.35"
      ]
     },
     "execution_count": 407,
     "metadata": {},
     "output_type": "execute_result"
    }
   ],
   "source": [
    "df.head()"
   ]
  },
  {
   "cell_type": "code",
   "execution_count": 408,
   "metadata": {},
   "outputs": [],
   "source": [
    "# Sort by probability in Ascending order\n",
    "df = df.sort_values(by=['p'])"
   ]
  },
  {
   "cell_type": "code",
   "execution_count": 409,
   "metadata": {},
   "outputs": [],
   "source": [
    "# (m-1)*p = p*\n",
    "# reindex afterwards\n",
    "df['p_star'] = df['p']*(len(df.index) - 1)\n",
    "df.index = range(0,len(df.index))"
   ]
  },
  {
   "cell_type": "code",
   "execution_count": 410,
   "metadata": {},
   "outputs": [
    {
     "name": "stderr",
     "output_type": "stream",
     "text": [
      "/usr/local/lib/python3.6/site-packages/ipykernel_launcher.py:11: SettingWithCopyWarning: \n",
      "A value is trying to be set on a copy of a slice from a DataFrame\n",
      "\n",
      "See the caveats in the documentation: http://pandas.pydata.org/pandas-docs/stable/indexing.html#indexing-view-versus-copy\n",
      "  # This is added back by InteractiveShellApp.init_path()\n"
     ]
    }
   ],
   "source": [
    "# Build alias table\n",
    "alias_table = pd.DataFrame(columns=list('PXA'))\n",
    "\n",
    "while(len(df.index) != 1):\n",
    "    \n",
    "    # Update the Alias Table\n",
    "    tmp = pd.DataFrame([[df.p_star[0], df.x[0], df.x[len(df.index)-1]]], columns=list('PXA'))\n",
    "    alias_table = alias_table.append(tmp, ignore_index=True)\n",
    "    \n",
    "    # Alter the dataframe\n",
    "    df.p_star[len(df.index)-1] -= (1-df.p_star[0]) # Subtaract (1-p*_1) from p*_max\n",
    "    df = df.drop([0])                              # Drop the (x1,p*_1) row\n",
    "    df = df.sort_values(by=['p_star'])                  # Sort values as needed\n",
    "    df.index = range(0,len(df.index))              # Reindex the dataframe to begin at 0\n",
    "\n"
   ]
  },
  {
   "cell_type": "code",
   "execution_count": 411,
   "metadata": {},
   "outputs": [
    {
     "data": {
      "text/html": [
       "<div>\n",
       "<style>\n",
       "    .dataframe thead tr:only-child th {\n",
       "        text-align: right;\n",
       "    }\n",
       "\n",
       "    .dataframe thead th {\n",
       "        text-align: left;\n",
       "    }\n",
       "\n",
       "    .dataframe tbody tr th {\n",
       "        vertical-align: top;\n",
       "    }\n",
       "</style>\n",
       "<table border=\"1\" class=\"dataframe\">\n",
       "  <thead>\n",
       "    <tr style=\"text-align: right;\">\n",
       "      <th></th>\n",
       "      <th>P</th>\n",
       "      <th>X</th>\n",
       "      <th>A</th>\n",
       "    </tr>\n",
       "  </thead>\n",
       "  <tbody>\n",
       "    <tr>\n",
       "      <th>0</th>\n",
       "      <td>0.5</td>\n",
       "      <td>2</td>\n",
       "      <td>1</td>\n",
       "    </tr>\n",
       "    <tr>\n",
       "      <th>1</th>\n",
       "      <td>0.3</td>\n",
       "      <td>1</td>\n",
       "      <td>3</td>\n",
       "    </tr>\n",
       "  </tbody>\n",
       "</table>\n",
       "</div>"
      ],
      "text/plain": [
       "     P  X  A\n",
       "0  0.5  2  1\n",
       "1  0.3  1  3"
      ]
     },
     "execution_count": 411,
     "metadata": {},
     "output_type": "execute_result"
    }
   ],
   "source": [
    "alias_table"
   ]
  },
  {
   "cell_type": "markdown",
   "metadata": {},
   "source": [
    "**Update:** When ran on *alias_table2.csv*, the algorithm yields the correct alias table. Let's wrap this into a function a few functions (below):"
   ]
  },
  {
   "cell_type": "code",
   "execution_count": 412,
   "metadata": {},
   "outputs": [],
   "source": [
    "# input : File path string\n",
    "# output: Dataframe containing the discrete probability distribution\n",
    "\n",
    "def build_dataframe( file_path ):\n",
    "    \n",
    "    df = pd.read_csv(file_path, header=None)  # Read csv, label the columns\n",
    "    df.columns = ['x','p']\n",
    "    df = df.sort_values(by=['p'])                        # Sort by probability in Ascending order\n",
    "    df['p_star'] = df['p']*(len(df.index) - 1)           # p*_i = (m-1)*p_i\n",
    "    df.index = range(0,len(df.index))                    # Reindex afterwards\n",
    "    \n",
    "    return df"
   ]
  },
  {
   "cell_type": "code",
   "execution_count": 413,
   "metadata": {},
   "outputs": [],
   "source": [
    "# input : Dataframe containing the discrete probability distribution\n",
    "# output: Alias table for discrete distribution (constant time evaluation for simulation)\n",
    "\n",
    "def build_alias_table( pmf_df ):\n",
    "    \n",
    "    # Build alias table\n",
    "    alias_table = pd.DataFrame(columns=list('PXA'))\n",
    "\n",
    "    while(len(pmf_df.index) != 1):\n",
    "\n",
    "        # Update the Alias Table\n",
    "        tmp = pd.DataFrame([[pmf_df.p_star[0], pmf_df.x[0], pmf_df.x[len(pmf_df.index)-1]]], columns=list('PXA'))\n",
    "        alias_table = alias_table.append(tmp, ignore_index=True)\n",
    "\n",
    "        # Alter the dataframe\n",
    "        pmf_df.p_star[len(pmf_df.index)-1] -= (1-pmf_df.p_star[0]) # Subtaract (1-p*_1) from p*_max\n",
    "        pmf_df = pmf_df.drop([0])                                  # Drop the (x1,p*_1) row\n",
    "        pmf_df = pmf_df.sort_values(by=['p_star'])                 # Sort values as needed\n",
    "        pmf_df.index = range(0,len(pmf_df.index))                  # Reindex the dataframe to begin at 0\n",
    "        \n",
    "    return alias_table\n"
   ]
  },
  {
   "cell_type": "code",
   "execution_count": 414,
   "metadata": {},
   "outputs": [],
   "source": [
    "# Main Function\n",
    "\n",
    "def main_driver( file_path ):\n",
    "    \n",
    "    return build_alias_table( build_dataframe( file_path ) )\n"
   ]
  },
  {
   "cell_type": "code",
   "execution_count": 415,
   "metadata": {},
   "outputs": [
    {
     "name": "stderr",
     "output_type": "stream",
     "text": [
      "/usr/local/lib/python3.6/site-packages/ipykernel_launcher.py:16: SettingWithCopyWarning: \n",
      "A value is trying to be set on a copy of a slice from a DataFrame\n",
      "\n",
      "See the caveats in the documentation: http://pandas.pydata.org/pandas-docs/stable/indexing.html#indexing-view-versus-copy\n",
      "  app.launch_new_instance()\n"
     ]
    }
   ],
   "source": [
    "alias_table = main_driver( './alias_table2.csv' )"
   ]
  },
  {
   "cell_type": "code",
   "execution_count": 416,
   "metadata": {},
   "outputs": [
    {
     "data": {
      "text/html": [
       "<div>\n",
       "<style>\n",
       "    .dataframe thead tr:only-child th {\n",
       "        text-align: right;\n",
       "    }\n",
       "\n",
       "    .dataframe thead th {\n",
       "        text-align: left;\n",
       "    }\n",
       "\n",
       "    .dataframe tbody tr th {\n",
       "        vertical-align: top;\n",
       "    }\n",
       "</style>\n",
       "<table border=\"1\" class=\"dataframe\">\n",
       "  <thead>\n",
       "    <tr style=\"text-align: right;\">\n",
       "      <th></th>\n",
       "      <th>P</th>\n",
       "      <th>X</th>\n",
       "      <th>A</th>\n",
       "    </tr>\n",
       "  </thead>\n",
       "  <tbody>\n",
       "    <tr>\n",
       "      <th>0</th>\n",
       "      <td>0.5</td>\n",
       "      <td>2</td>\n",
       "      <td>1</td>\n",
       "    </tr>\n",
       "    <tr>\n",
       "      <th>1</th>\n",
       "      <td>0.3</td>\n",
       "      <td>1</td>\n",
       "      <td>3</td>\n",
       "    </tr>\n",
       "  </tbody>\n",
       "</table>\n",
       "</div>"
      ],
      "text/plain": [
       "     P  X  A\n",
       "0  0.5  2  1\n",
       "1  0.3  1  3"
      ]
     },
     "execution_count": 416,
     "metadata": {},
     "output_type": "execute_result"
    }
   ],
   "source": [
    "alias_table.head()"
   ]
  },
  {
   "cell_type": "markdown",
   "metadata": {},
   "source": [
    "**Update:** Now that we have this contained with functions, let's just build a `Alias_Table` class:"
   ]
  },
  {
   "cell_type": "code",
   "execution_count": 417,
   "metadata": {},
   "outputs": [],
   "source": [
    "class Alias_Table():\n",
    "    \n",
    "    def __init__( self, file_path ):\n",
    "        \n",
    "        self.file_path   = file_path\n",
    "        self.pmf_df      = self.build_dataframe()\n",
    "        self.alias_table = self.build_alias_table()\n",
    "        \n",
    "    def build_dataframe( self ):\n",
    "        \n",
    "        df = pd.read_csv(self.file_path, header=None)        # Read csv, label the columns\n",
    "        df.columns = ['x','p']\n",
    "        df = df.sort_values(by=['p'])                        # Sort by probability in Ascending order\n",
    "        df['p_star'] = df['p']*(len(df.index) - 1)           # p*_i = (m-1)*p_i\n",
    "        df.index = range(0,len(df.index))                    # Reindex afterwards\n",
    "\n",
    "        return df\n",
    "    \n",
    "    \n",
    "    def build_alias_table( self ):\n",
    "        \n",
    "        pmf_df = self.pmf_df\n",
    "\n",
    "        # Build alias table\n",
    "        alias_table = pd.DataFrame(columns=list('PXA'))\n",
    "\n",
    "        while(len(pmf_df.index) != 1):\n",
    "\n",
    "            # Update the Alias Table\n",
    "            tmp = pd.DataFrame([[pmf_df.p_star[0], pmf_df.x[0], pmf_df.x[len(pmf_df.index)-1]]], columns=list('PXA'))\n",
    "            alias_table = alias_table.append(tmp, ignore_index=True)\n",
    "\n",
    "            # Alter the dataframe\n",
    "            pmf_df.p_star[len(pmf_df.index)-1] -= (1-pmf_df.p_star[0]) # Subtaract (1-p*_1) from p*_max\n",
    "            pmf_df = pmf_df.drop([0])                                  # Drop the (x1,p*_1) row\n",
    "            pmf_df = pmf_df.sort_values(by=['p_star'])                 # Sort values as needed\n",
    "            pmf_df.index = range(0,len(pmf_df.index))                  # Reindex the dataframe to begin at 0\n",
    "\n",
    "        return alias_table\n",
    "\n"
   ]
  },
  {
   "cell_type": "code",
   "execution_count": 418,
   "metadata": {},
   "outputs": [
    {
     "name": "stderr",
     "output_type": "stream",
     "text": [
      "/usr/local/lib/python3.6/site-packages/ipykernel_launcher.py:34: SettingWithCopyWarning: \n",
      "A value is trying to be set on a copy of a slice from a DataFrame\n",
      "\n",
      "See the caveats in the documentation: http://pandas.pydata.org/pandas-docs/stable/indexing.html#indexing-view-versus-copy\n"
     ]
    }
   ],
   "source": [
    "a_table = Alias_Table('./alias_table2.csv').alias_table"
   ]
  },
  {
   "cell_type": "code",
   "execution_count": 419,
   "metadata": {},
   "outputs": [
    {
     "data": {
      "text/html": [
       "<div>\n",
       "<style>\n",
       "    .dataframe thead tr:only-child th {\n",
       "        text-align: right;\n",
       "    }\n",
       "\n",
       "    .dataframe thead th {\n",
       "        text-align: left;\n",
       "    }\n",
       "\n",
       "    .dataframe tbody tr th {\n",
       "        vertical-align: top;\n",
       "    }\n",
       "</style>\n",
       "<table border=\"1\" class=\"dataframe\">\n",
       "  <thead>\n",
       "    <tr style=\"text-align: right;\">\n",
       "      <th></th>\n",
       "      <th>P</th>\n",
       "      <th>X</th>\n",
       "      <th>A</th>\n",
       "    </tr>\n",
       "  </thead>\n",
       "  <tbody>\n",
       "    <tr>\n",
       "      <th>0</th>\n",
       "      <td>0.5</td>\n",
       "      <td>2</td>\n",
       "      <td>1</td>\n",
       "    </tr>\n",
       "    <tr>\n",
       "      <th>1</th>\n",
       "      <td>0.3</td>\n",
       "      <td>1</td>\n",
       "      <td>3</td>\n",
       "    </tr>\n",
       "  </tbody>\n",
       "</table>\n",
       "</div>"
      ],
      "text/plain": [
       "     P  X  A\n",
       "0  0.5  2  1\n",
       "1  0.3  1  3"
      ]
     },
     "execution_count": 419,
     "metadata": {},
     "output_type": "execute_result"
    }
   ],
   "source": [
    "a_table"
   ]
  },
  {
   "cell_type": "code",
   "execution_count": null,
   "metadata": {},
   "outputs": [],
   "source": []
  }
 ],
 "metadata": {
  "kernelspec": {
   "display_name": "Python 3",
   "language": "python",
   "name": "python3"
  },
  "language_info": {
   "codemirror_mode": {
    "name": "ipython",
    "version": 3
   },
   "file_extension": ".py",
   "mimetype": "text/x-python",
   "name": "python",
   "nbconvert_exporter": "python",
   "pygments_lexer": "ipython3",
   "version": "3.6.3"
  }
 },
 "nbformat": 4,
 "nbformat_minor": 2
}
