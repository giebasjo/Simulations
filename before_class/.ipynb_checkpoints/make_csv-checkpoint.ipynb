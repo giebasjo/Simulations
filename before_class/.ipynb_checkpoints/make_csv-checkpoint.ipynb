{
 "cells": [
  {
   "cell_type": "markdown",
   "metadata": {},
   "source": [
    "## Description\n",
    "\n",
    "This document will be used to generate the csv that we will use to then construct the alias table. The format of the csv shall be as follows: <br>\n",
    "m <br>\n",
    "x1,p1 <br>\n",
    "x2,p2 <br>\n",
    ". <br>\n",
    ". <br>\n",
    ". <br>\n",
    "xm,pm <br>"
   ]
  },
  {
   "cell_type": "code",
   "execution_count": 29,
   "metadata": {},
   "outputs": [
    {
     "name": "stdout",
     "output_type": "stream",
     "text": [
      "What is the cardinality of your sample space?\n",
      "25\n",
      "---- SUCCESS ----\n"
     ]
    }
   ],
   "source": [
    "import numpy as np\n",
    "\n",
    "\n",
    "m = input(\"What is the cardinality of your sample space?\\n\")\n",
    "\n",
    "with open('alias_table.csv', 'w') as outFile:\n",
    "        \n",
    "    x_list = np.random.choice(range(1000),size=int(m),replace=False)\n",
    "    \n",
    "    p_list = np.random.random(int(m))\n",
    "    p_list /= p_list.sum()        \n",
    "\n",
    "    for x,p in zip(x_list, p_list):\n",
    "        outStr = str(x) + \",\" + str(p) + \"\\n\"\n",
    "        outFile.write(outStr)\n",
    "        \n",
    "    if( sum(p_list) == 1.0 ):\n",
    "        print(\"---- SUCCESS ----\")\n",
    "    \n",
    "    \n",
    "outFile.close()\n",
    "\n"
   ]
  },
  {
   "cell_type": "code",
   "execution_count": 30,
   "metadata": {},
   "outputs": [
    {
     "name": "stdout",
     "output_type": "stream",
     "text": [
      "alias_table.csv                make_csv.ipynb\r\n",
      "alias_table_construction.ipynb\r\n"
     ]
    }
   ],
   "source": [
    "!ls"
   ]
  },
  {
   "cell_type": "code",
   "execution_count": 31,
   "metadata": {},
   "outputs": [
    {
     "name": "stdout",
     "output_type": "stream",
     "text": [
      "110,0.0595769054449\r\n",
      "676,0.0687342141939\r\n",
      "874,0.0312169342784\r\n",
      "221,0.0400195621673\r\n",
      "487,0.0128203715941\r\n",
      "573,0.00637636171889\r\n",
      "709,0.039755089126\r\n",
      "608,0.0577056994997\r\n",
      "799,0.0074469682358\r\n",
      "122,0.0469278517994\r\n",
      "640,0.0211676829696\r\n",
      "747,0.0368566172439\r\n",
      "429,0.0293165366586\r\n",
      "816,0.013187456323\r\n",
      "414,0.0659031413105\r\n",
      "450,0.067434892425\r\n",
      "27,0.0602588960491\r\n",
      "959,0.0349925195319\r\n",
      "126,0.0386360544528\r\n",
      "690,0.0571410722446\r\n",
      "476,0.04670263219\r\n",
      "777,0.0521510179201\r\n",
      "147,0.0303134715946\r\n",
      "314,0.0644406237207\r\n",
      "880,0.0109174273071\r\n"
     ]
    }
   ],
   "source": [
    "!cat alias_table.csv"
   ]
  }
 ],
 "metadata": {
  "kernelspec": {
   "display_name": "Python 3",
   "language": "python",
   "name": "python3"
  },
  "language_info": {
   "codemirror_mode": {
    "name": "ipython",
    "version": 3
   },
   "file_extension": ".py",
   "mimetype": "text/x-python",
   "name": "python",
   "nbconvert_exporter": "python",
   "pygments_lexer": "ipython3",
   "version": "3.6.3"
  }
 },
 "nbformat": 4,
 "nbformat_minor": 2
}
